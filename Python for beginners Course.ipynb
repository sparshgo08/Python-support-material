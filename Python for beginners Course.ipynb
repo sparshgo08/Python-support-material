{
 "cells": [
  {
   "cell_type": "markdown",
   "id": "8645ea12",
   "metadata": {},
   "source": [
    "### Sparsh Goyal\n",
    "\n",
    "**LinkedIn**: https://www.linkedin.com/in/sparsh-g-121497122\n",
    "\n",
    "**GitHub**: https://github.com/sparshgo08"
   ]
  },
  {
   "cell_type": "markdown",
   "id": "c94f9382",
   "metadata": {},
   "source": [
    "# Python for Beginners (CHEATSHEET and NOTES)"
   ]
  },
  {
   "cell_type": "code",
   "execution_count": null,
   "id": "920499f4",
   "metadata": {},
   "outputs": [],
   "source": [
    "#hello world program\n",
    "print(\"hello world\")"
   ]
  },
  {
   "cell_type": "code",
   "execution_count": null,
   "id": "c37652ec",
   "metadata": {},
   "outputs": [],
   "source": [
    "#creating an input\n",
    "intro = input(\"enter your name: \")\n",
    "print(\"hey!!\", intro)"
   ]
  },
  {
   "cell_type": "markdown",
   "id": "e367e965",
   "metadata": {},
   "source": [
    "## Lesson 1: Python Variables"
   ]
  },
  {
   "cell_type": "code",
   "execution_count": null,
   "id": "978755c4",
   "metadata": {},
   "outputs": [],
   "source": [
    "#let\n",
    "x = 100     #'x' is the variable and 100 is its value\n",
    "print(x)"
   ]
  },
  {
   "cell_type": "markdown",
   "id": "236380db",
   "metadata": {},
   "source": [
    "### Python Data types"
   ]
  },
  {
   "cell_type": "code",
   "execution_count": null,
   "id": "e8a74466",
   "metadata": {},
   "outputs": [],
   "source": [
    "#1 Integers (int) datatype are numbers without decimal points\n",
    "x = 100\n",
    "type(x)"
   ]
  },
  {
   "cell_type": "code",
   "execution_count": null,
   "id": "ce731eb0",
   "metadata": {},
   "outputs": [],
   "source": [
    "#2 Floating point (float) dataypes are numbers with decimal points\n",
    "y = 99.989\n",
    "type(y)"
   ]
  },
  {
   "cell_type": "code",
   "execution_count": null,
   "id": "912d3424",
   "metadata": {},
   "outputs": [],
   "source": [
    "#3 Strings (str) datatypes are characters or special characters\n",
    "a = 'hello'\n",
    "type(a)"
   ]
  },
  {
   "cell_type": "code",
   "execution_count": null,
   "id": "74de9c1c",
   "metadata": {},
   "outputs": [],
   "source": [
    "#4 List (list) datatype creates a simple list of numbers(int, float, complex), strings and boolean values\n",
    "b = [1, 2.3, 4+5j, \"bye-bye\", True]\n",
    "type(b)"
   ]
  },
  {
   "cell_type": "code",
   "execution_count": null,
   "id": "e57669fa",
   "metadata": {},
   "outputs": [],
   "source": [
    "#changing values in a list\n",
    "b[4] = False\n",
    "print(b)"
   ]
  },
  {
   "cell_type": "code",
   "execution_count": null,
   "id": "2316fba1",
   "metadata": {},
   "outputs": [],
   "source": [
    "#4 Tuple (tuple) datatype is just like list but tuples are immutable i.e. no value can be changed\n",
    "c =  (2, 3.4, 5+6j, \"now\", True)\n",
    "print(c)\n",
    "type(c)"
   ]
  },
  {
   "cell_type": "code",
   "execution_count": null,
   "id": "1aa2b62d",
   "metadata": {},
   "outputs": [],
   "source": [
    "#trying to change values in a tuple\n",
    "c[4] = False"
   ]
  },
  {
   "cell_type": "code",
   "execution_count": null,
   "id": "dcd8ca83",
   "metadata": {},
   "outputs": [],
   "source": [
    "#assigning values to multiple variables at one\n",
    "(x, y, z) = 1, 2, 3\n",
    "print(x)\n",
    "print(z)"
   ]
  },
  {
   "cell_type": "code",
   "execution_count": null,
   "id": "23b27a8f",
   "metadata": {},
   "outputs": [],
   "source": [
    "x = open('Calculator.ipynb', 'r')"
   ]
  },
  {
   "cell_type": "code",
   "execution_count": null,
   "id": "56c49990",
   "metadata": {},
   "outputs": [],
   "source": [
    "print(x)"
   ]
  },
  {
   "cell_type": "code",
   "execution_count": null,
   "id": "e23264ce",
   "metadata": {},
   "outputs": [],
   "source": [
    "type(x)"
   ]
  },
  {
   "cell_type": "markdown",
   "id": "7a0121a1",
   "metadata": {},
   "source": [
    "### Rules for naming a variable"
   ]
  },
  {
   "cell_type": "code",
   "execution_count": null,
   "id": "7832d5f7",
   "metadata": {},
   "outputs": [],
   "source": [
    "abc = 123"
   ]
  },
  {
   "cell_type": "code",
   "execution_count": null,
   "id": "4d72c06f",
   "metadata": {},
   "outputs": [],
   "source": [
    "a_b_c = 1234"
   ]
  },
  {
   "cell_type": "code",
   "execution_count": null,
   "id": "df68daa0",
   "metadata": {},
   "outputs": [],
   "source": [
    "1abc = 12345"
   ]
  },
  {
   "cell_type": "code",
   "execution_count": null,
   "id": "f4f4488a",
   "metadata": {},
   "outputs": [],
   "source": [
    "@abc = 12"
   ]
  },
  {
   "cell_type": "code",
   "execution_count": null,
   "id": "e410df3c",
   "metadata": {},
   "outputs": [],
   "source": [
    "-abc = 122"
   ]
  },
  {
   "cell_type": "code",
   "execution_count": null,
   "id": "abe6c7bc",
   "metadata": {},
   "outputs": [],
   "source": [
    "abc1 = 121"
   ]
  },
  {
   "cell_type": "code",
   "execution_count": null,
   "id": "cf42c04b",
   "metadata": {},
   "outputs": [],
   "source": [
    "ABC = 111"
   ]
  },
  {
   "cell_type": "code",
   "execution_count": null,
   "id": "9696d5e2",
   "metadata": {},
   "outputs": [],
   "source": [
    "print(abc)"
   ]
  },
  {
   "cell_type": "code",
   "execution_count": null,
   "id": "a7d9113b",
   "metadata": {},
   "outputs": [],
   "source": [
    "print(ABC)"
   ]
  },
  {
   "cell_type": "code",
   "execution_count": null,
   "id": "ccbe7e77",
   "metadata": {},
   "outputs": [],
   "source": [
    "break = 100"
   ]
  },
  {
   "cell_type": "markdown",
   "id": "f4b82910",
   "metadata": {},
   "source": [
    "### Arithmatic Operations"
   ]
  },
  {
   "cell_type": "code",
   "execution_count": null,
   "id": "a5df9b07",
   "metadata": {},
   "outputs": [],
   "source": [
    "(a, b, c) = 24, 12.5, 18"
   ]
  },
  {
   "cell_type": "code",
   "execution_count": null,
   "id": "9b5395e8",
   "metadata": {},
   "outputs": [],
   "source": [
    "#Addition\n",
    "a+b+c"
   ]
  },
  {
   "cell_type": "code",
   "execution_count": null,
   "id": "9b0e5033",
   "metadata": {},
   "outputs": [],
   "source": [
    "#Substraction\n",
    "a-b-c"
   ]
  },
  {
   "cell_type": "code",
   "execution_count": null,
   "id": "8ef6a6ed",
   "metadata": {},
   "outputs": [],
   "source": [
    "#multiplication\n",
    "a*b*c"
   ]
  },
  {
   "cell_type": "code",
   "execution_count": null,
   "id": "e7c9b668",
   "metadata": {},
   "outputs": [],
   "source": [
    "#use of double astrics\n",
    "a**b"
   ]
  },
  {
   "cell_type": "code",
   "execution_count": null,
   "id": "97f6582c",
   "metadata": {},
   "outputs": [],
   "source": [
    "#Division\n",
    "a/b/c"
   ]
  },
  {
   "cell_type": "code",
   "execution_count": null,
   "id": "40bae9a9",
   "metadata": {},
   "outputs": [],
   "source": [
    "#Integer result of division\n",
    "a//b"
   ]
  },
  {
   "cell_type": "code",
   "execution_count": null,
   "id": "a81b5bc6",
   "metadata": {},
   "outputs": [],
   "source": [
    "#Complex calculation\n",
    "a+b-19*c/(a*b*c)"
   ]
  },
  {
   "cell_type": "code",
   "execution_count": null,
   "id": "142da392",
   "metadata": {},
   "outputs": [],
   "source": [
    "#modulos\n",
    "a%b"
   ]
  },
  {
   "cell_type": "markdown",
   "id": "45feae92",
   "metadata": {},
   "source": [
    "### Operations on Strings"
   ]
  },
  {
   "cell_type": "code",
   "execution_count": null,
   "id": "51909141",
   "metadata": {},
   "outputs": [],
   "source": [
    "var = \"hello world\""
   ]
  },
  {
   "cell_type": "code",
   "execution_count": null,
   "id": "8866a638",
   "metadata": {},
   "outputs": [],
   "source": [
    "#extracting a character from the string\n",
    "print(var[0])"
   ]
  },
  {
   "cell_type": "code",
   "execution_count": null,
   "id": "afb868f9",
   "metadata": {},
   "outputs": [],
   "source": [
    "#extracting multiple charcaters from the string\n",
    "print(var[0:6])b"
   ]
  },
  {
   "cell_type": "code",
   "execution_count": null,
   "id": "2c827d09",
   "metadata": {},
   "outputs": [],
   "source": [
    "#checking for the length of the string\n",
    "print(len(var))"
   ]
  },
  {
   "cell_type": "markdown",
   "id": "230521cd",
   "metadata": {},
   "source": [
    "## Lesson 2: Python Numbers"
   ]
  },
  {
   "cell_type": "code",
   "execution_count": null,
   "id": "814f8379",
   "metadata": {},
   "outputs": [],
   "source": [
    "#Integers numbers\n",
    "num1 = 12\n",
    "type(num)"
   ]
  },
  {
   "cell_type": "code",
   "execution_count": null,
   "id": "21128a31",
   "metadata": {},
   "outputs": [],
   "source": [
    "#foating point numbers\n",
    "num2 = 12.12\n",
    "type(num2)"
   ]
  },
  {
   "cell_type": "code",
   "execution_count": null,
   "id": "79c6824a",
   "metadata": {},
   "outputs": [],
   "source": [
    "#Complex numbers\n",
    "num3 = 2+4j\n",
    "type(num3)"
   ]
  },
  {
   "cell_type": "code",
   "execution_count": null,
   "id": "d1e812b3",
   "metadata": {},
   "outputs": [],
   "source": [
    "#printing the real part of complex number\n",
    "num3.real"
   ]
  },
  {
   "cell_type": "code",
   "execution_count": null,
   "id": "82b9e217",
   "metadata": {},
   "outputs": [],
   "source": [
    "#printing the imaginary part of complex number\n",
    "num3.imag"
   ]
  },
  {
   "cell_type": "code",
   "execution_count": null,
   "id": "19fadbd6",
   "metadata": {},
   "outputs": [],
   "source": [
    "#they can be combination of all above numbers and negative too\n",
    "num4 = -2.455+34j\n",
    "num4"
   ]
  },
  {
   "cell_type": "code",
   "execution_count": null,
   "id": "59847a88",
   "metadata": {},
   "outputs": [],
   "source": [
    "#type of number will be based on its priority eg\n",
    "type(num4)"
   ]
  },
  {
   "cell_type": "markdown",
   "id": "6ce77965",
   "metadata": {},
   "source": [
    "**(In above example, although num4 has a floating point and integre number, the type is shown as complex due to priority)**"
   ]
  },
  {
   "cell_type": "markdown",
   "id": "2a089b83",
   "metadata": {},
   "source": [
    "### Value conversion in Python"
   ]
  },
  {
   "cell_type": "markdown",
   "id": "97ad012b",
   "metadata": {},
   "source": [
    "In python\n",
    "\n",
    "```python\n",
    "x = 100\n",
    "```\n",
    "x is an int number\n",
    "\n",
    "**whereas**\n",
    "\n",
    "```python\n",
    "x = \"100\"\n",
    "```\n",
    "x is now a string"
   ]
  },
  {
   "cell_type": "code",
   "execution_count": null,
   "id": "ad205071",
   "metadata": {},
   "outputs": [],
   "source": [
    "#input from the user\n",
    "x = input(\"type something: \")\n",
    "y = input(\"type something: \")"
   ]
  },
  {
   "cell_type": "code",
   "execution_count": null,
   "id": "67a3d399",
   "metadata": {},
   "outputs": [],
   "source": [
    "z = x+y\n",
    "z"
   ]
  },
  {
   "cell_type": "markdown",
   "id": "37364127",
   "metadata": {},
   "source": [
    "In the example above although in both x and y columns we input numeric values still the addition operation took place as string values\n",
    "\n",
    "**Therefore input from user is by default string and any other number needs to be explicitly explained**"
   ]
  },
  {
   "cell_type": "code",
   "execution_count": null,
   "id": "5cb573c8",
   "metadata": {},
   "outputs": [],
   "source": [
    "#integer number input\n",
    "x = int(input(\"type something: \"))\n",
    "y = int(input(\"type something: \"))\n",
    "\n",
    "z = x+y\n",
    "z"
   ]
  },
  {
   "cell_type": "code",
   "execution_count": null,
   "id": "f7507806",
   "metadata": {},
   "outputs": [],
   "source": [
    "#complex number input\n",
    "x = complex(input(\"type something: \"))\n",
    "y = complex(input(\"type something: \"))\n",
    "\n",
    "z = x+y\n",
    "z"
   ]
  },
  {
   "cell_type": "markdown",
   "id": "3bef9f4e",
   "metadata": {},
   "source": [
    "### Functions on Python Number"
   ]
  },
  {
   "cell_type": "code",
   "execution_count": null,
   "id": "7efabb53",
   "metadata": {},
   "outputs": [],
   "source": [
    "#absolute function\n",
    "x = -7.4\n",
    "print(abs(x))"
   ]
  },
  {
   "cell_type": "markdown",
   "id": "7454b57b",
   "metadata": {},
   "source": [
    "abs() function prints positive value of the number"
   ]
  },
  {
   "cell_type": "code",
   "execution_count": null,
   "id": "57d817a4",
   "metadata": {},
   "outputs": [],
   "source": [
    "#exponential function\n",
    "import math          #math library necassary for this function\n",
    "x = 10\n",
    "print(math.exp(x))"
   ]
  },
  {
   "cell_type": "markdown",
   "id": "e5478af1",
   "metadata": {},
   "source": [
    "exp function calculates e^x(entered number)"
   ]
  },
  {
   "cell_type": "code",
   "execution_count": null,
   "id": "e82b12ac",
   "metadata": {},
   "outputs": [],
   "source": [
    "#value of e\n",
    "math.e"
   ]
  },
  {
   "cell_type": "code",
   "execution_count": null,
   "id": "7da2e044",
   "metadata": {},
   "outputs": [],
   "source": [
    "#value of pi\n",
    "math.pi"
   ]
  },
  {
   "cell_type": "code",
   "execution_count": null,
   "id": "67ff5c69",
   "metadata": {},
   "outputs": [],
   "source": [
    "#sqrt (square root) function\n",
    "x = 9\n",
    "print(math.sqrt(x))"
   ]
  },
  {
   "cell_type": "markdown",
   "id": "d50ccbeb",
   "metadata": {},
   "source": [
    "sqrt gives square root of the number passed, in this case sqrt of 9 is 3.0"
   ]
  },
  {
   "cell_type": "code",
   "execution_count": null,
   "id": "8bab1a2b",
   "metadata": {},
   "outputs": [],
   "source": [
    "#max function\n",
    "max(1, 23, 43434, 562, 89.43431223)"
   ]
  },
  {
   "cell_type": "markdown",
   "id": "68b55c67",
   "metadata": {},
   "source": [
    "gives the maximum value"
   ]
  },
  {
   "cell_type": "code",
   "execution_count": null,
   "id": "e071d7fd",
   "metadata": {},
   "outputs": [],
   "source": [
    "#min function\n",
    "min(1, 23, 43434, 562, 89.43431223)"
   ]
  },
  {
   "cell_type": "markdown",
   "id": "9b2aa337",
   "metadata": {},
   "source": [
    "gives the mininmum value"
   ]
  },
  {
   "cell_type": "markdown",
   "id": "cc798299",
   "metadata": {},
   "source": [
    "### More operations on lists"
   ]
  },
  {
   "cell_type": "code",
   "execution_count": null,
   "id": "c6900527",
   "metadata": {},
   "outputs": [],
   "source": [
    "#creating a matrix using a list\n",
    "mat = [[1,2,3], [\"hello\", \"hey\", \"hi\"]]\n",
    "print(mat)"
   ]
  },
  {
   "cell_type": "markdown",
   "id": "cfe2518b",
   "metadata": {},
   "source": [
    "Indices in the list starts from 0 when surfing from left and starts from 1 from surfing from the right"
   ]
  },
  {
   "cell_type": "code",
   "execution_count": null,
   "id": "ce27e48c",
   "metadata": {},
   "outputs": [],
   "source": [
    "#eg:-\n",
    "b = [1, 2.3, 4+5j, \"bye-bye\", True]"
   ]
  },
  {
   "cell_type": "code",
   "execution_count": null,
   "id": "34e4a4d2",
   "metadata": {},
   "outputs": [],
   "source": [
    "#to access string \"bye-bye\" there are two ways\n",
    "print(b[3])\n",
    "#and\n",
    "print(b[-2])"
   ]
  },
  {
   "cell_type": "code",
   "execution_count": null,
   "id": "f5f8db22",
   "metadata": {},
   "outputs": [],
   "source": [
    "#accessing every 2nd element of the list\n",
    "b[::2]"
   ]
  },
  {
   "cell_type": "code",
   "execution_count": null,
   "id": "600f7312",
   "metadata": {},
   "outputs": [],
   "source": [
    "#reversing all the elements of the list\n",
    "b[::-1]"
   ]
  },
  {
   "cell_type": "code",
   "execution_count": null,
   "id": "27eacf39",
   "metadata": {},
   "outputs": [],
   "source": [
    "#printing a number multiple times\n",
    "x = [0]*100\n",
    "x"
   ]
  },
  {
   "cell_type": "code",
   "execution_count": null,
   "id": "166f0ec9",
   "metadata": {},
   "outputs": [],
   "source": [
    "#list concantenation\n",
    "new = b + mat\n",
    "new"
   ]
  },
  {
   "cell_type": "code",
   "execution_count": null,
   "id": "c67e04c3",
   "metadata": {},
   "outputs": [],
   "source": [
    "#unpack operation\n",
    "var = list(\"hey there!!!!\")\n",
    "print(var)"
   ]
  },
  {
   "cell_type": "code",
   "execution_count": null,
   "id": "6dd05188",
   "metadata": {},
   "outputs": [],
   "source": [
    "#saperately storing each value of a list in a variable\n",
    "inte, floaty, *other = b\n",
    "print(inte)\n",
    "print(floaty)\n",
    "print(other)"
   ]
  },
  {
   "cell_type": "markdown",
   "id": "a9539a50",
   "metadata": {},
   "source": [
    "### Methods in list"
   ]
  },
  {
   "cell_type": "code",
   "execution_count": null,
   "id": "181f8ced",
   "metadata": {},
   "outputs": [],
   "source": [
    "#append method\n",
    "b.append(\"new string\")\n",
    "b"
   ]
  },
  {
   "cell_type": "code",
   "execution_count": null,
   "id": "e623baef",
   "metadata": {},
   "outputs": [],
   "source": [
    "#adding values from one list to other list\n",
    "b.extend(mat)\n",
    "b"
   ]
  },
  {
   "cell_type": "code",
   "execution_count": null,
   "id": "bcf802ed",
   "metadata": {},
   "outputs": [],
   "source": [
    "#inserting a value in-between in a list\n",
    "b.insert(4, \"hello-hello\")\n",
    "b"
   ]
  },
  {
   "cell_type": "code",
   "execution_count": null,
   "id": "1b3915b7",
   "metadata": {},
   "outputs": [],
   "source": [
    "#removing a value from the list\n",
    "b.remove(\"hello-hello\")"
   ]
  },
  {
   "cell_type": "code",
   "execution_count": null,
   "id": "2b37f283",
   "metadata": {},
   "outputs": [],
   "source": [
    "b.remove(\"new string\")"
   ]
  },
  {
   "cell_type": "code",
   "execution_count": null,
   "id": "fc033769",
   "metadata": {},
   "outputs": [],
   "source": [
    "b"
   ]
  },
  {
   "cell_type": "code",
   "execution_count": null,
   "id": "3d1cea14",
   "metadata": {},
   "outputs": [],
   "source": [
    "#sorting a list\n",
    "new = [1,5,2,8,4,6]\n",
    "new.sort()"
   ]
  },
  {
   "cell_type": "code",
   "execution_count": null,
   "id": "0a077fba",
   "metadata": {},
   "outputs": [],
   "source": [
    "new"
   ]
  },
  {
   "cell_type": "markdown",
   "id": "0828a687",
   "metadata": {},
   "source": [
    "### Built-in functions with lists in Python\n",
    "\n",
    "x = [1,5,2,8,4,6]\n",
    "\n",
    "1) len()\n",
    "syntax:\n",
    "```python\n",
    "len(x)\n",
    "```\n",
    "\n",
    "2) max()\n",
    "syntax:\n",
    "```python\n",
    "max(x)\n",
    "```\n",
    "\n",
    "3) min()\n",
    "syntax:\n",
    "```python\n",
    "min(x)\n",
    "```\n",
    "\n",
    "4) sum()\n",
    "syntax:\n",
    "```python\n",
    "sum(x)\n",
    "```\n",
    "\n",
    "5) average\n",
    "syntax:\n",
    "```python\n",
    "sum(x)/len(x)\n",
    "```"
   ]
  },
  {
   "cell_type": "markdown",
   "id": "d3295bb9",
   "metadata": {},
   "source": [
    "## Lesson 3: Python Tuples"
   ]
  },
  {
   "cell_type": "markdown",
   "id": "4ece0960",
   "metadata": {},
   "source": [
    "**Tuples are immutable**\n",
    "\n",
    "i.e.\n",
    "\n",
    "1) tuple_name.append() function does not work\n",
    "\n",
    "2) tuple(element) = (new_element) does not work"
   ]
  },
  {
   "cell_type": "markdown",
   "id": "b519b127",
   "metadata": {},
   "source": [
    "**Most other functions and methods just as well with tuples as they do with lists**\n",
    "\n",
    "1) elements can be accessed using\n",
    "```python\n",
    "tuple_name[element_index]\n",
    "```\n",
    "\n",
    "2) concantenation can be done using\n",
    "```python\n",
    "tuple1+tuple2\n",
    "```\n",
    "\n",
    "3) repetation can be done using\n",
    "```python\n",
    "tuple_name = (element)*x\n",
    "```\n",
    "\n",
    "4) perticular elements of tuple can be accessed using\n",
    "```python\n",
    "tuple_name[start_index:end_index]\n",
    "```\n",
    "\n",
    "5) reverse print tuple can be done using\n",
    "```python\n",
    "tuple_name[::-1]\n",
    "```\n",
    "\n",
    "6) unpacking a list is basically unpacking it as a tuple using\n",
    "```python\n",
    "tuple(\"string\")\n",
    "```\n",
    "\n",
    "7) sum function using\n",
    "```python\n",
    "sum(tuple_name)\n",
    "```\n",
    "\n",
    "8) len function using\n",
    "```python\n",
    "len(tuple_name)\n",
    "```\n",
    "\n",
    "9) max function using\n",
    "```python\n",
    "max(tuple_name)\n",
    "```\n",
    "\n",
    "10) min function using\n",
    "```python\n",
    "min(tuple_name)\n",
    "```"
   ]
  },
  {
   "cell_type": "code",
   "execution_count": null,
   "id": "9e0d0acf",
   "metadata": {},
   "outputs": [],
   "source": [
    "#nesting in tuples\n",
    "tup1 = (\"hello\", \"hey\", \"hi\")\n",
    "tup2 = (1,2,3)\n",
    "nest = (tup1, tup2)\n",
    "nest"
   ]
  },
  {
   "cell_type": "code",
   "execution_count": null,
   "id": "f83874bd",
   "metadata": {},
   "outputs": [],
   "source": [
    "#playing with variables\n",
    "num = (1,2,3,4)"
   ]
  },
  {
   "cell_type": "code",
   "execution_count": null,
   "id": "0e78bcde",
   "metadata": {},
   "outputs": [],
   "source": [
    "#putting num in individual variables\n",
    "a,b,c,d = num\n",
    "print(a)\n",
    "print(b)\n",
    "print(c)\n",
    "print(d)"
   ]
  },
  {
   "cell_type": "code",
   "execution_count": null,
   "id": "fe0deffa",
   "metadata": {},
   "outputs": [],
   "source": [
    "#creating list with tuple\n",
    "a, *b, c = num\n",
    "print(a)\n",
    "print(b)\n",
    "print(c)"
   ]
  },
  {
   "cell_type": "code",
   "execution_count": null,
   "id": "ab899b89",
   "metadata": {},
   "outputs": [],
   "source": [
    "#deleting a tuple\n",
    "del num"
   ]
  },
  {
   "cell_type": "code",
   "execution_count": null,
   "id": "9b199a9c",
   "metadata": {},
   "outputs": [],
   "source": [
    "num"
   ]
  },
  {
   "cell_type": "code",
   "execution_count": null,
   "id": "ae4f5482",
   "metadata": {},
   "outputs": [],
   "source": [
    "#count function\n",
    "num = (1,2,3,4,5,6,5,4,2,3,4,2,3,3,3,2,2,5,6,6,5,4,3,2,2,3)\n",
    "num.count(2)"
   ]
  },
  {
   "cell_type": "code",
   "execution_count": null,
   "id": "5023cdf1",
   "metadata": {},
   "outputs": [],
   "source": [
    "#converting list to tuple\n",
    "lst = [1,2,4,5]\n",
    "type(lst)"
   ]
  },
  {
   "cell_type": "code",
   "execution_count": null,
   "id": "c4e9dc0a",
   "metadata": {},
   "outputs": [],
   "source": [
    "tpl = tuple(lst)\n",
    "type(tpl)"
   ]
  },
  {
   "cell_type": "code",
   "execution_count": null,
   "id": "393d195f",
   "metadata": {},
   "outputs": [],
   "source": [
    "tpl"
   ]
  },
  {
   "cell_type": "code",
   "execution_count": null,
   "id": "11f0b148",
   "metadata": {},
   "outputs": [],
   "source": [
    "#nesting tuples in list\n",
    "lst = [(1,2), (4,5)]\n",
    "type(lst)"
   ]
  },
  {
   "cell_type": "code",
   "execution_count": null,
   "id": "224ffd2c",
   "metadata": {},
   "outputs": [],
   "source": [
    "#changing list not tuple\n",
    "lst.append((\"new\", \"tuple\"))\n",
    "lst"
   ]
  },
  {
   "cell_type": "code",
   "execution_count": null,
   "id": "277d5b3e",
   "metadata": {},
   "outputs": [],
   "source": [
    "#removing tuples from the list\n",
    "lst.remove(('new', 'tuple'))\n",
    "lst"
   ]
  },
  {
   "cell_type": "code",
   "execution_count": null,
   "id": "7a814052",
   "metadata": {},
   "outputs": [],
   "source": [
    "#nesting list within tuple\n",
    "tpl = (['a','b','c'], [1,2,3])\n",
    "type(tpl)"
   ]
  },
  {
   "cell_type": "code",
   "execution_count": null,
   "id": "08af2ee3",
   "metadata": {},
   "outputs": [],
   "source": [
    "#editing list within tuple\n",
    "tpl[0].append('d')\n",
    "tpl"
   ]
  },
  {
   "cell_type": "code",
   "execution_count": null,
   "id": "2230cfd5",
   "metadata": {},
   "outputs": [],
   "source": [
    "tpl[0].remove('d')\n",
    "tpl"
   ]
  },
  {
   "cell_type": "markdown",
   "id": "837e2649",
   "metadata": {},
   "source": [
    "## Lesson 4: Python strings"
   ]
  },
  {
   "cell_type": "markdown",
   "id": "d7154a4f",
   "metadata": {},
   "source": [
    "**Strings in Python can be written i following syntax**\n",
    "\n",
    "1) Simple string using either \"\" or ''\n",
    "```python\n",
    "stg = \"hello\"\n",
    "stg2 = 'hello'\n",
    "```\n",
    "\n",
    "2) Inverted commas inside a string\n",
    "```python\n",
    "stg1 = \"i'm a human\"\n",
    "stg2 = 'Ethan said, \"I am a human'\n",
    "stg3 = 'Ethan said, \"I\\'m a Human'\n",
    "```\n",
    "\n",
    "3) String of multiple lines\n",
    "```python\n",
    "stg1 = \"\"\"hello\n",
    "there\n",
    "mate\"\"\"\n",
    "stg2 = '''hello\n",
    "there\n",
    "mate'''\n",
    "```\n",
    "\n",
    "4) len() function\n",
    "```python\n",
    "print(len(stg))\n",
    "```\n",
    "\n",
    "5) accessing each character of the string\n",
    "```python\n",
    "print(stg[5])\n",
    "#to extract char at 5th index\n",
    "print(stg[0:5])\n",
    "#to extract chars from 0 to 5\n",
    "print(stg[:5])\n",
    "#to extract chars from 0 to 5\n",
    "print(stg[5:0])\n",
    "#to extract chars from 5 to last index\n",
    "print(stg[5:])\n",
    "#to extract chars from 5 to last index\n",
    "print(stg[2:5])\n",
    "#to extract chars from index 2 to 4(not 5)\n",
    "```"
   ]
  },
  {
   "cell_type": "code",
   "execution_count": null,
   "id": "06de9392",
   "metadata": {},
   "outputs": [],
   "source": [
    "#printing each letter of the string indvidually\n",
    "stg = \"hello world\"\n",
    "for i in stg:\n",
    "    print(i)"
   ]
  },
  {
   "cell_type": "code",
   "execution_count": null,
   "id": "884ff129",
   "metadata": {},
   "outputs": [],
   "source": [
    "#or to print each character in the same line\n",
    "for i in stg:\n",
    "    print(i, end=\"-\")        #each character printed with a \"-\" between them"
   ]
  },
  {
   "cell_type": "markdown",
   "id": "b3552bfe",
   "metadata": {},
   "source": [
    "### In-Built Python functions"
   ]
  },
  {
   "cell_type": "code",
   "execution_count": null,
   "id": "7bfe73bc",
   "metadata": {},
   "outputs": [],
   "source": [
    "#upper case\n",
    "stg.upper()"
   ]
  },
  {
   "cell_type": "code",
   "execution_count": null,
   "id": "be6b21b3",
   "metadata": {},
   "outputs": [],
   "source": [
    "#lower method\n",
    "stg.lower()"
   ]
  },
  {
   "cell_type": "code",
   "execution_count": null,
   "id": "a0d0aaa4",
   "metadata": {},
   "outputs": [],
   "source": [
    "#find function\n",
    "stg.find('w')"
   ]
  },
  {
   "cell_type": "code",
   "execution_count": null,
   "id": "5dbd204e",
   "metadata": {},
   "outputs": [],
   "source": [
    "#split function\n",
    "stg.split(' ')"
   ]
  },
  {
   "cell_type": "code",
   "execution_count": null,
   "id": "8abbb626",
   "metadata": {},
   "outputs": [],
   "source": [
    "#replace method\n",
    "stg2 = stg.replace(\"world\", \"Sparsh\")\n",
    "stg"
   ]
  },
  {
   "cell_type": "code",
   "execution_count": null,
   "id": "2d3526dc",
   "metadata": {},
   "outputs": [],
   "source": [
    "#rpartition method\n",
    "stg3 = stg.rpartition(' ')\n",
    "stg3"
   ]
  },
  {
   "cell_type": "code",
   "execution_count": null,
   "id": "9d6f7138",
   "metadata": {},
   "outputs": [],
   "source": [
    "type(stg3)"
   ]
  },
  {
   "cell_type": "code",
   "execution_count": null,
   "id": "187db282",
   "metadata": {},
   "outputs": [],
   "source": [
    "#concatenation\n",
    "a = \"hello\"\n",
    "b = \"world\"\n",
    "print(a+ \" \" +b)"
   ]
  },
  {
   "cell_type": "code",
   "execution_count": null,
   "id": "760b70f9",
   "metadata": {},
   "outputs": [],
   "source": [
    "#format function\n",
    "a = \"i am\"\n",
    "b = \"sparsh\"\n",
    "c = \"goyal\"\n",
    "\"{}! {} {}\".format(a, b, c)"
   ]
  },
  {
   "cell_type": "markdown",
   "id": "51cac34e",
   "metadata": {},
   "source": [
    "## Lesson 5: Python Dictionaries\n",
    "\n",
    "1) simple dictionary\n",
    "```Python\n",
    "d1 = {a:\"welcome\", b:\"aboard\"}\n",
    "```\n",
    "2) nested dictionay\n",
    "```python\n",
    "d2 = {\"Name\":{\"First Name\":\"Sparsh\", \"Last Name\":\"Goyal\"}, \"Age\":21}\n",
    "```"
   ]
  },
  {
   "cell_type": "code",
   "execution_count": null,
   "id": "4966f76c",
   "metadata": {},
   "outputs": [],
   "source": [
    "#adding elements\n",
    "d = {}\n",
    "d[\"hello\"]=\"world\"\n",
    "d"
   ]
  },
  {
   "cell_type": "code",
   "execution_count": null,
   "id": "37b1fd9d",
   "metadata": {},
   "outputs": [],
   "source": [
    "#updating elements of the dictionary\n",
    "d = {}\n",
    "d[\"Name\"] = {\"First Name\":\"Sparsh\", \"Last Name\":\"Goyal\"}\n",
    "d"
   ]
  },
  {
   "cell_type": "code",
   "execution_count": null,
   "id": "354d6d0c",
   "metadata": {},
   "outputs": [],
   "source": [
    "d[\"Age\"] = \"21\"\n",
    "d"
   ]
  },
  {
   "cell_type": "code",
   "execution_count": null,
   "id": "f4286404",
   "metadata": {},
   "outputs": [],
   "source": [
    "#accessing elements\n",
    "d[\"Name\"][\"First Name\"]"
   ]
  },
  {
   "cell_type": "code",
   "execution_count": null,
   "id": "a38c7731",
   "metadata": {},
   "outputs": [],
   "source": [
    "#deleting elements\n",
    "d.pop(\"Age\")"
   ]
  },
  {
   "cell_type": "code",
   "execution_count": null,
   "id": "16ed4ef4",
   "metadata": {},
   "outputs": [],
   "source": [
    "d"
   ]
  },
  {
   "cell_type": "code",
   "execution_count": null,
   "id": "156960c7",
   "metadata": {},
   "outputs": [],
   "source": [
    "d.popitem()"
   ]
  },
  {
   "cell_type": "code",
   "execution_count": null,
   "id": "3573e540",
   "metadata": {},
   "outputs": [],
   "source": [
    "d"
   ]
  },
  {
   "cell_type": "code",
   "execution_count": null,
   "id": "70d53ced",
   "metadata": {},
   "outputs": [],
   "source": [
    "#Built in functions with dictionaries\n",
    "d2 = {\"Name\":{\"First Name\":\"Sparsh\", \"Last Name\":\"Goyal\"}, \"Age\":21}"
   ]
  },
  {
   "cell_type": "code",
   "execution_count": null,
   "id": "d7075668",
   "metadata": {},
   "outputs": [],
   "source": [
    "d2.values()"
   ]
  },
  {
   "cell_type": "code",
   "execution_count": null,
   "id": "0e47e90a",
   "metadata": {},
   "outputs": [],
   "source": [
    "d2.keys()"
   ]
  },
  {
   "cell_type": "code",
   "execution_count": null,
   "id": "048a9b11",
   "metadata": {},
   "outputs": [],
   "source": [
    "keys = {\"name\", \"class\"}\n",
    "values = \"sparsh\", \"b.tech\"\n",
    "dict.fromkeys(keys, values)"
   ]
  },
  {
   "cell_type": "code",
   "execution_count": null,
   "id": "06a6f634",
   "metadata": {},
   "outputs": [],
   "source": [
    "d2.clear()"
   ]
  },
  {
   "cell_type": "code",
   "execution_count": null,
   "id": "69b02e7d",
   "metadata": {},
   "outputs": [],
   "source": [
    "d2"
   ]
  },
  {
   "cell_type": "markdown",
   "id": "52cd9fd1",
   "metadata": {},
   "source": [
    "## Lesson 6: Python sets"
   ]
  },
  {
   "cell_type": "code",
   "execution_count": null,
   "id": "2630e99f",
   "metadata": {},
   "outputs": [],
   "source": [
    "s = set([1])\n",
    "type(s)"
   ]
  },
  {
   "cell_type": "code",
   "execution_count": null,
   "id": "5024592d",
   "metadata": {},
   "outputs": [],
   "source": [
    "s.add(2)\n",
    "s"
   ]
  },
  {
   "cell_type": "code",
   "execution_count": null,
   "id": "2ed0245e",
   "metadata": {},
   "outputs": [],
   "source": [
    "#union of sets\n",
    "s1 = set([1,2,3,4])\n",
    "s2 = set([3,4,5,6])\n",
    "s1.union(s2)"
   ]
  },
  {
   "cell_type": "code",
   "execution_count": null,
   "id": "a8fa105d",
   "metadata": {},
   "outputs": [],
   "source": [
    "#intersection of set\n",
    "s1.difference(s2)"
   ]
  },
  {
   "cell_type": "markdown",
   "id": "123bad77",
   "metadata": {},
   "source": [
    "## Lesson 7: If-else statement"
   ]
  },
  {
   "cell_type": "code",
   "execution_count": null,
   "id": "0a57c9cb",
   "metadata": {},
   "outputs": [],
   "source": [
    "#basic if-else statement\n",
    "a = int(input(\"enter a number: \"))\n",
    "if a>20:\n",
    "    print(\"this is the if statement\")\n",
    "else:\n",
    "    print(\"this is the else statement\")"
   ]
  },
  {
   "cell_type": "code",
   "execution_count": null,
   "id": "e3758fab",
   "metadata": {},
   "outputs": [],
   "source": [
    "#basic if-elif-else statement\n",
    "a = int(input(\"enter a number: \"))\n",
    "if a<20:\n",
    "    print(\"this is the if statement\")\n",
    "elif a>20 and a<50:\n",
    "    print(\"this is the elif statement\")\n",
    "else:\n",
    "    print(\"this is the else statement\")"
   ]
  },
  {
   "cell_type": "code",
   "execution_count": null,
   "id": "8ebac94c",
   "metadata": {},
   "outputs": [],
   "source": [
    "#nested if statement\n",
    "a = int(input(\"enter a number: \"))\n",
    "if a<20:\n",
    "    print(\"this is the if statement\")\n",
    "    if a<10:\n",
    "        print(\"this is the second if statement\")\n",
    "elif a>20 and a<50:\n",
    "    print(\"this is the elif statement\")\n",
    "else:\n",
    "    print(\"this is the else statement\")"
   ]
  },
  {
   "cell_type": "code",
   "execution_count": null,
   "id": "3579c8e9",
   "metadata": {},
   "outputs": [],
   "source": [
    "#complicated program for if-elif-else statement\n",
    "a = int(input(\"enter a number: \"))\n",
    "if a<0:\n",
    "    print(\"the number is less than 0\")\n",
    "    if a%2==0:\n",
    "        print(\"and it is even\")\n",
    "    else:\n",
    "        print(\"and it is odd\")\n",
    "elif a>0 and a<25:\n",
    "    print(\"the number lies between 0 and 25\")\n",
    "    if a%2==0:\n",
    "        print(\"and it is even\")\n",
    "    else:\n",
    "        print(\"and it is odd\")\n",
    "elif a>25 and a<50:\n",
    "    print(\"the number lies between 25 and 50\")\n",
    "    if a%2==0:\n",
    "        print(\"and it is even\")\n",
    "    else:\n",
    "        print(\"and it is odd\")\n",
    "elif a>50 and a<75:\n",
    "    print(\"the number lies between 50 and 75\")\n",
    "    if a%2==0:\n",
    "        print(\"and it is even\")\n",
    "    else:\n",
    "        print(\"and it is odd\")\n",
    "elif a>75 and a<100:\n",
    "    print(\"the number lies between 75 and 100\")\n",
    "    if a%2==0:\n",
    "        print(\"and it is even\")\n",
    "    else:\n",
    "        print(\"and it is odd\")\n",
    "else:\n",
    "    print(\"bas kar baawle\")"
   ]
  },
  {
   "cell_type": "markdown",
   "id": "70f07683",
   "metadata": {},
   "source": [
    "## Lesson 8: Python Loops"
   ]
  },
  {
   "cell_type": "code",
   "execution_count": null,
   "id": "c2da9996",
   "metadata": {},
   "outputs": [],
   "source": [
    "#simple while loop\n",
    "a = int(input(\"Enter a number: \"))\n",
    "while a%2==0:\n",
    "    a = int(input(\"Enter a number: \"))\n",
    "else:\n",
    "    print(\"ABEY PAGAL HAI KYA?\")"
   ]
  },
  {
   "cell_type": "markdown",
   "id": "f57764f2",
   "metadata": {},
   "source": [
    "**(while loop is used to repeat the statement an unknown number of times util the condition is met)**"
   ]
  },
  {
   "cell_type": "code",
   "execution_count": null,
   "id": "5799e624",
   "metadata": {},
   "outputs": [],
   "source": [
    "#simple for loop\n",
    "x = \"hello world\"\n",
    "for i in x:\n",
    "    print(i)"
   ]
  },
  {
   "cell_type": "markdown",
   "id": "630cceac",
   "metadata": {},
   "source": [
    "**(for loop is used to iterate over a sequence, which could be a list, tuple, array, or a string)**"
   ]
  },
  {
   "cell_type": "code",
   "execution_count": null,
   "id": "d62fb2cd",
   "metadata": {},
   "outputs": [],
   "source": [
    "#nested loops\n",
    "x = [[1,2,3], ['a','b','c']]\n",
    "for i in x:\n",
    "    for j in i:\n",
    "        print(j, end=\" hey bhagwan thak gaya \")\n",
    "    print()"
   ]
  },
  {
   "cell_type": "code",
   "execution_count": null,
   "id": "9a1cbb68",
   "metadata": {},
   "outputs": [],
   "source": [
    "#control loops with a break statement\n",
    "x = \"hello world, how are you\"\n",
    "for i in x:\n",
    "    if i==\",\":\n",
    "        break\n",
    "    print(i, end=\"\")"
   ]
  },
  {
   "cell_type": "code",
   "execution_count": null,
   "id": "ec9ee75a",
   "metadata": {},
   "outputs": [],
   "source": [
    "#control loops with continue statement\n",
    "x = [1,3,7,12,43,65]\n",
    "for i in x:\n",
    "    if i<10:\n",
    "        continue\n",
    "    print(i, end=\" \")"
   ]
  },
  {
   "cell_type": "markdown",
   "id": "ad75e29e",
   "metadata": {},
   "source": [
    "## Lessson 9: For Loop in Python\n",
    "\n",
    "**Syntax**\n",
    "```python\n",
    "for counter in sequence:\n",
    "    statement(s)\n",
    "```"
   ]
  },
  {
   "cell_type": "code",
   "execution_count": null,
   "id": "baf80ed6",
   "metadata": {},
   "outputs": [],
   "source": [
    "#print all the numbers between 0 and 20\n",
    "for i in range(0,21):\n",
    "    print(i)"
   ]
  },
  {
   "cell_type": "code",
   "execution_count": null,
   "id": "7a7c3ab3",
   "metadata": {},
   "outputs": [],
   "source": [
    "#printing all even number between 0 and 20\n",
    "for i in range(0,21,2):\n",
    "    print(i)"
   ]
  },
  {
   "cell_type": "code",
   "execution_count": null,
   "id": "46ce568f",
   "metadata": {},
   "outputs": [],
   "source": [
    "#printing all the odd number between 0 and 20\n",
    "for i in range(1, 20, 2):\n",
    "    print(i)"
   ]
  },
  {
   "cell_type": "code",
   "execution_count": null,
   "id": "c3b7ff49",
   "metadata": {},
   "outputs": [],
   "source": [
    "#printing the sum of all numbers between 0 and 20\n",
    "sum = 0\n",
    "for i in range(0,21):\n",
    "    sum=sum+i\n",
    "print(sum)"
   ]
  },
  {
   "cell_type": "code",
   "execution_count": null,
   "id": "ae91f773",
   "metadata": {},
   "outputs": [],
   "source": [
    "#printing the sum of all even number between 0 and 20\n",
    "sum = 0\n",
    "for i in range(0,21):\n",
    "    if i%2==0:\n",
    "        sum=sum+i\n",
    "print(sum)"
   ]
  },
  {
   "cell_type": "code",
   "execution_count": null,
   "id": "90ccf3a2",
   "metadata": {},
   "outputs": [],
   "source": [
    "n = int(input(\"enter a number here: \"))\n",
    "for i in range(0, n+2):\n",
    "    for j in range(0, i):\n",
    "        print(j, end=\" \")\n",
    "    print()"
   ]
  },
  {
   "cell_type": "code",
   "execution_count": null,
   "id": "5445c366",
   "metadata": {},
   "outputs": [],
   "source": [
    "r = int(input(\"enter number of rows: \"))\n",
    "c = int(input(\"enter number of columns: \"))\n",
    "x = []\n",
    "val = []\n",
    "for i in range(0,r):\n",
    "    for j in range(0,c):\n",
    "        val.insert(j, int(input(\"Enter the %d * %d element: \" %(i,j))))\n",
    "    x.insert(i,val)\n",
    "    val = []\n",
    "\n",
    "y = []\n",
    "val = []\n",
    "for i in range(0,r):\n",
    "    for j in range(0,c):\n",
    "        val.insert(j, int(input(\"Enter the %d * %d element: \" %(i,j))))\n",
    "    x.insert(i,val)\n",
    "    val = []\n",
    "sum = []\n",
    "\n",
    "try:\n",
    "    for i in range(0,r):\n",
    "        for j in range(0,c):\n",
    "            val.insert(j, x[i][j] + y[i][j])\n",
    "            sum.insert(i, val)\n",
    "            val = []\n",
    "except IndexError:\n",
    "    print(sum)"
   ]
  },
  {
   "cell_type": "markdown",
   "id": "25e57274",
   "metadata": {},
   "source": [
    "## Lesson 10: While loop\n",
    "\n",
    "**Syntax**\n",
    "```python\n",
    "while expression:\n",
    "    statement(s)\n",
    "```"
   ]
  },
  {
   "cell_type": "code",
   "execution_count": null,
   "id": "ea8ba4b5",
   "metadata": {},
   "outputs": [],
   "source": [
    "i = 0\n",
    "while i<=10:\n",
    "    print(\"hello world\")\n",
    "    i+=1"
   ]
  },
  {
   "cell_type": "code",
   "execution_count": null,
   "id": "9d0c7bc2",
   "metadata": {},
   "outputs": [],
   "source": [
    "i = 10\n",
    "while i>=1:\n",
    "    print(\"hello world\")\n",
    "    i-=1"
   ]
  },
  {
   "cell_type": "code",
   "execution_count": null,
   "id": "8bb37ab0",
   "metadata": {},
   "outputs": [],
   "source": [
    "i = int(input(\"Enter a number : \"))\n",
    "while i>=1:\n",
    "    print(\"hello world\")\n",
    "    i-=1\n",
    "else:\n",
    "    print(\"aye jadiya!!\")"
   ]
  },
  {
   "cell_type": "code",
   "execution_count": null,
   "id": "ec030a3f",
   "metadata": {},
   "outputs": [],
   "source": [
    "#reversing an integer\n",
    "n = int(input(\"enter a number: \"))\n",
    "rn = 0\n",
    "while n%10!=0:\n",
    "    c = n%10\n",
    "    rn = rn*10+c\n",
    "    n = n//10\n",
    "print(\"the reversed number is: \", rn)"
   ]
  },
  {
   "cell_type": "code",
   "execution_count": null,
   "id": "8b3837d4",
   "metadata": {},
   "outputs": [],
   "source": [
    "#nested while loop\n",
    "n = int(input(\"enter number: \"))\n",
    "i = 1\n",
    "while i<=n:\n",
    "    j = 1\n",
    "    while j<=i:\n",
    "        print(i, end=\"\")\n",
    "        j+=1\n",
    "    i+=1\n",
    "    print()"
   ]
  },
  {
   "cell_type": "code",
   "execution_count": null,
   "id": "968c1e0c",
   "metadata": {
    "scrolled": true
   },
   "outputs": [],
   "source": [
    "#guessing game with the system\n",
    "import random\n",
    "numb = random.randint(100, 999)             #generating a random number using random library\n",
    "print(numb)\n",
    "n = int(input(\"try guessing the number: \"))   #taking a guess from the user\n",
    "\n",
    "while n!=99:                                  #starting a loop\n",
    "    num = numb                                #num is a another variable and set its value to the randomly generated permanant number\n",
    "    cor = 0                                   #cor is a variable which will store the correctly guessed numbers\n",
    "    while num%10:                             #second loop to iterate over user's number\n",
    "        numc = num%10                         #numc a varaible which will hold the values generated by system for this loop\n",
    "        nc = n%10                             #nc will hold the number guessed by user\n",
    "        num = num//10\n",
    "        n = n//10                             #to remove variables from earlier variables\n",
    "        if numc==nc:\n",
    "            cor = cor+1\n",
    "    if cor==3:\n",
    "        print(\"congrats! you guessed it right!\")\n",
    "        break\n",
    "    else:\n",
    "        print(\"%d digits were guessed right!\" %cor)\n",
    "        print(\"try guessing again!\")\n",
    "        n = int(input(\"try guessing the number again: \"))\n",
    "else:\n",
    "    print(\"you quit the game!\")"
   ]
  },
  {
   "cell_type": "markdown",
   "id": "d6a1db3f",
   "metadata": {},
   "source": [
    "## Lesson 11: Array in Python"
   ]
  },
  {
   "cell_type": "markdown",
   "id": "c95aa1e9",
   "metadata": {},
   "source": [
    "contains various values of similar type i.e homogeneous"
   ]
  },
  {
   "cell_type": "code",
   "execution_count": null,
   "id": "efcbe702",
   "metadata": {},
   "outputs": [],
   "source": [
    "from array import *\n",
    "\n",
    "arr = array('i', [1,2,3,4])       #\"i\" here represents an signed integer\n",
    "print(arr)\n",
    "print(type(arr))"
   ]
  },
  {
   "cell_type": "code",
   "execution_count": null,
   "id": "108ba91b",
   "metadata": {},
   "outputs": [],
   "source": [
    "arr2 = array('I', [-1,2,3,4])       #\"I\" here represents an unsigned integer which cannot store negative value\n",
    "print(arr)\n",
    "print(type(arr))"
   ]
  },
  {
   "cell_type": "code",
   "execution_count": null,
   "id": "536b09d3",
   "metadata": {},
   "outputs": [],
   "source": [
    "#buffer_info() provides info about the array and its location in the computer\n",
    "print(arr.buffer_info())"
   ]
  },
  {
   "cell_type": "code",
   "execution_count": null,
   "id": "4bbe3d00",
   "metadata": {},
   "outputs": [],
   "source": [
    "for i in arr:\n",
    "    print(i)"
   ]
  },
  {
   "cell_type": "code",
   "execution_count": null,
   "id": "ae283d66",
   "metadata": {},
   "outputs": [],
   "source": [
    "for pnt in range(4):             #printing the pointers for the array elements\n",
    "    print(pnt, arr[pnt])"
   ]
  },
  {
   "cell_type": "code",
   "execution_count": null,
   "id": "fc626c9e",
   "metadata": {},
   "outputs": [],
   "source": [
    "arr.reverse()\n",
    "print(arr)"
   ]
  },
  {
   "cell_type": "code",
   "execution_count": null,
   "id": "cb16da11",
   "metadata": {},
   "outputs": [],
   "source": [
    "arr.append(10)\n",
    "print(arr)"
   ]
  },
  {
   "cell_type": "code",
   "execution_count": null,
   "id": "e52930a6",
   "metadata": {},
   "outputs": [],
   "source": [
    "arr.remove(10)\n",
    "print(arr)"
   ]
  },
  {
   "cell_type": "code",
   "execution_count": null,
   "id": "c7a2b827",
   "metadata": {},
   "outputs": [],
   "source": [
    "#input in the array\n",
    "arr3 = array('i', [])\n",
    "x = int(input(\"enter the size of the array: \"))\n",
    "for i in range(x):\n",
    "    print(\"enter %d numbers in array\"%x)\n",
    "    n = int(input())\n",
    "    arr3.append(n)\n",
    "print(\"the array with %d number is: \"%x, arr3)"
   ]
  },
  {
   "cell_type": "markdown",
   "id": "94e90569",
   "metadata": {},
   "source": [
    "## Lesson 12: Functions in Python\n",
    "\n",
    "**A function is a set of code that perform a task**\n",
    "\n",
    "```python\n",
    "def function _name:\n",
    "    statement:\n",
    "```"
   ]
  },
  {
   "cell_type": "code",
   "execution_count": null,
   "id": "ec4735a9",
   "metadata": {},
   "outputs": [],
   "source": [
    "#creating a function\n",
    "def hello():\n",
    "    print(\"hello world\")"
   ]
  },
  {
   "cell_type": "code",
   "execution_count": null,
   "id": "25d9e5e1",
   "metadata": {},
   "outputs": [],
   "source": [
    "#calling the function\n",
    "hello()"
   ]
  },
  {
   "cell_type": "code",
   "execution_count": null,
   "id": "313ad45e",
   "metadata": {},
   "outputs": [],
   "source": [
    "#passing a value to the function\n",
    "a = int(input())\n",
    "b = int(input())\n",
    "\n",
    "def add(a,b):\n",
    "    total = a+b\n",
    "    print(\"the sum is: \", total)\n",
    "    \n",
    "print(\"value of a is: %d \\nvalue of b is: %d\" %(a,b))\n",
    "add(a,b)\n",
    "x = int(input())\n",
    "y = int(input())\n",
    "print(\"value of x is: %d \\nvalue of y is: %d\" %(x,y))\n",
    "add(x,y)"
   ]
  },
  {
   "cell_type": "code",
   "execution_count": null,
   "id": "71f33ae0",
   "metadata": {},
   "outputs": [],
   "source": [
    "#passing a value to the function\n",
    "a = int(input())\n",
    "b = int(input())\n",
    "print(id(a), id(b))\n",
    "def add(a,b):\n",
    "    total = a+b\n",
    "    print(\"the sum is: \", total)\n",
    "    \n",
    "print(\"value of a is: %d \\nvalue of b is: %d\" %(a,b))\n",
    "add(a,b)\n",
    "x = int(input())\n",
    "y = int(input())\n",
    "print(id(x), id(y))\n",
    "print(\"value of x is: %d \\nvalue of y is: %d\" %(x,y))\n",
    "add(x,y)"
   ]
  },
  {
   "cell_type": "markdown",
   "id": "0a24ccef",
   "metadata": {},
   "source": [
    "## Lesson 13: Objects and Classes in Python"
   ]
  },
  {
   "cell_type": "markdown",
   "id": "65cd794c",
   "metadata": {},
   "source": [
    "a class is a blueprint of an object"
   ]
  },
  {
   "cell_type": "code",
   "execution_count": null,
   "id": "737e7ac1",
   "metadata": {},
   "outputs": [],
   "source": [
    "class Person:                                         # this is a class\n",
    "    \n",
    "    def __init__(self):                              # this is a function with (self) as an object\n",
    "        self.name=\"sam\"\n",
    "        self.age=22\n",
    "        self.gender=\"male\"                            # these are features of obeject having values such as \"sam\", \"22\", \"male\"\n",
    "        \n",
    "    def talk(self):                                   # defining bhaviour talk for object self\n",
    "        print(\"hi! I am \", self.name)\n",
    "            \n",
    "    def vote(self):\n",
    "        if self.age>=18:\n",
    "            print(\"can vote\")           # defining the behaviour\n",
    "        else:\n",
    "            print(\"cannot vote\")\n",
    "                \n",
    "obj = Person()                                        # this is the object\n",
    "obj.talk()\n",
    "obj.vote()                                      # calling the object and class"
   ]
  },
  {
   "cell_type": "code",
   "execution_count": null,
   "id": "10bfb63c",
   "metadata": {},
   "outputs": [],
   "source": [
    "class car() :\n",
    "    def __init__(self, year, speed):\n",
    "        self.year = year\n",
    "        self.speed = speed\n",
    "    def getspeed(self):\n",
    "        print(\"maximum speed is: \", self.speed)\n",
    "    def newspeed(self, speed):\n",
    "        self.speed = speed\n",
    "        \n",
    "        \n",
    "BMW = car(2018, 150)\n",
    "FORD = car(2016, 120)\n",
    "\n",
    "BMW.getspeed()\n",
    "BMW.newspeed(130)\n",
    "BMW.getspeed()\n",
    "FORD.getspeed()"
   ]
  },
  {
   "cell_type": "markdown",
   "id": "46acbfd5",
   "metadata": {},
   "source": [
    "### Inheritence in Python\n",
    "\n",
    "it is a mechanism for a new class to inherit the features of another class"
   ]
  },
  {
   "cell_type": "code",
   "execution_count": null,
   "id": "1d3556a9",
   "metadata": {},
   "outputs": [],
   "source": [
    "class car() :\n",
    "    def __init__(self, year, speed):\n",
    "        self.year = year\n",
    "        self.speed = speed\n",
    "    def getspeed(self):\n",
    "        print(\"maximum speed is: \", self.speed)\n",
    "    def newspeed(self, speed):\n",
    "        self.speed = speed\n",
    "        \n",
    "        \n",
    "BMW = car(2018, 150)\n",
    "FORD = car(2016, 120)\n",
    "\n",
    "class sedan(car):\n",
    "    def accelarate(self):\n",
    "        print(\"137\")\n",
    "    def opentrunk(self):\n",
    "        print(\"trunk has been opened\")\n",
    "class suv(car):\n",
    "    def accelarate(self):\n",
    "        print(\"120\")\n",
    "        \n",
    "HONDA = sedan(2019, 160)\n",
    "\n",
    "BMW.getspeed()\n",
    "HONDA.getspeed()\n",
    "HONDA.opentrunk()"
   ]
  },
  {
   "cell_type": "markdown",
   "id": "aea348e4",
   "metadata": {},
   "source": [
    "### Encapsulation\n",
    "\n",
    "the feature of preventing data from direct access is called Encapsulation"
   ]
  },
  {
   "cell_type": "markdown",
   "id": "601d3fba",
   "metadata": {},
   "source": [
    "### Polymorphism\n",
    "\n",
    "feature of using the same function in many ways"
   ]
  },
  {
   "cell_type": "markdown",
   "id": "4f55feaa",
   "metadata": {},
   "source": [
    "## Lesson 14: Threading in Python\n",
    "\n",
    "process is an executable instance of a program"
   ]
  },
  {
   "cell_type": "markdown",
   "id": "e438d256",
   "metadata": {},
   "source": [
    "**A thred is a sequence of instruction of a program that can execute independently of the reamining program**\n",
    "\n",
    "Syntax\n",
    "```python\n",
    "from threading import *\n",
    "\n",
    "def func_name():\n",
    "    statement1\n",
    "    statement2\n",
    "\n",
    "t = Thread(target = func_name())\n",
    "```"
   ]
  },
  {
   "cell_type": "code",
   "execution_count": null,
   "id": "56463405",
   "metadata": {},
   "outputs": [],
   "source": [
    "#example 1\n",
    "from threading import *\n",
    "\n",
    "def show():\n",
    "    print(\"this the child thead\")\n",
    "\n",
    "t = Thread(target = show())\n",
    "t.start()\n",
    "print(\"this is the parent thread\")"
   ]
  },
  {
   "cell_type": "code",
   "execution_count": null,
   "id": "f29a72c3",
   "metadata": {},
   "outputs": [],
   "source": [
    "class mythread(Thread):\n",
    "    def run(self):\n",
    "        for i in range(5):\n",
    "            print(\"this is a child class\")\n",
    "t = mythread()\n",
    "t.start()\n",
    "for i in range(5):\n",
    "    print(\"this is the main thread\")"
   ]
  },
  {
   "cell_type": "code",
   "execution_count": null,
   "id": "dc51e87a",
   "metadata": {},
   "outputs": [],
   "source": [
    "class demo:\n",
    "    def show(self):\n",
    "        for i in range(5):\n",
    "            print(\"this the child class\")\n",
    "obj = demo()\n",
    "t = Thread(target = obj.show())\n",
    "t.start()\n",
    "for i in range(5):\n",
    "    print(\"this is the main thread\")"
   ]
  },
  {
   "cell_type": "markdown",
   "id": "ef43e380",
   "metadata": {},
   "source": [
    "storing the state of a process or a thread and resuming its execution at a later time is called **context switching**\n",
    "\n",
    "**Multithreading** is a model where multiple threads within a process executes independently while sharing the same resources"
   ]
  },
  {
   "cell_type": "code",
   "execution_count": null,
   "id": "23ed6533",
   "metadata": {},
   "outputs": [],
   "source": [
    "#complex program using mutithreading\n",
    "\n",
    "from threading import *\n",
    "import time\n",
    "\n",
    "class demo:\n",
    "    \n",
    "    def num(self):\n",
    "        for i in range(1,6):\n",
    "            print(\"the number is: \", i)\n",
    "            time.sleep(1)\n",
    "    def doublenum(self):\n",
    "        for i in range(1,6):\n",
    "            print(\"the double of the number is: \", 2*i)\n",
    "            time.sleep(1)\n",
    "    def sqrnum(self):\n",
    "        for i in range(1,6):\n",
    "            print(\"the square of the number is: \", i*i)\n",
    "            time.sleep(1)\n",
    "\n",
    "obj = demo()\n",
    "t1 = Thread(target = obj.num())\n",
    "t2 = Thread(target = obj.doublenum())\n",
    "t3 = Thread(target = obj.sqrnum())\n",
    "\n",
    "t1.start()\n",
    "time.sleep(0.2)\n",
    "t2.start()\n",
    "time.sleep(0.2)\n",
    "t3.start()\n",
    "\n",
    "t1.join()\n",
    "t2.join()\n",
    "t3.join()\n",
    "\n",
    "print(\"this the main thread\")"
   ]
  },
  {
   "cell_type": "markdown",
   "id": "dc7f8e25",
   "metadata": {},
   "source": [
    "## Lesson 15: Python Scripting"
   ]
  },
  {
   "cell_type": "code",
   "execution_count": null,
   "id": "3393a001",
   "metadata": {},
   "outputs": [],
   "source": [
    "import os\n",
    "\n",
    "def current_dir():\n",
    "    cwd = os.getcwd()\n",
    "    print(cwd)\n",
    "    \n",
    "def file_path(filename):\n",
    "    path = os.path.abspath((filename))\n",
    "    print(path)\n",
    "    \n",
    "current_dir()\n",
    "filename = \"sample.txt\"\n",
    "file_path(filename)"
   ]
  },
  {
   "cell_type": "code",
   "execution_count": null,
   "id": "897f865e",
   "metadata": {},
   "outputs": [],
   "source": [
    "import time\n",
    "\n",
    "epc = time.time()\n",
    "\n",
    "print(epc)\n",
    "localtime = time.localtime(epc)\n",
    "print(localtime)\n",
    "\n",
    "print(time.ctime(epc))"
   ]
  },
  {
   "cell_type": "code",
   "execution_count": null,
   "id": "1857d5f9",
   "metadata": {},
   "outputs": [],
   "source": [
    "import smtplib\n",
    "\n",
    "smtpobj = smtplib.SMTP('smtp.gmail.com', 587)\n",
    "smtpobj.ehlo()\n",
    "smtpobj.starttls()\n",
    "smtpobj.login('rg030875@gmailcom', 'RAJESH GOYAL')"
   ]
  },
  {
   "cell_type": "markdown",
   "id": "4330f270",
   "metadata": {},
   "source": [
    "## Lesson 16: Numpy Library\n",
    "\n",
    "in numpy dimensions are called axes"
   ]
  },
  {
   "cell_type": "code",
   "execution_count": null,
   "id": "2ce2d674",
   "metadata": {},
   "outputs": [],
   "source": [
    "#impoting the numpy library\n",
    "import numpy as np"
   ]
  },
  {
   "cell_type": "code",
   "execution_count": null,
   "id": "d2e9cbfe",
   "metadata": {},
   "outputs": [],
   "source": [
    "#creating a simple array in numpy with three numbers\n",
    "a = np.array([1,2,3])\n",
    "a"
   ]
  },
  {
   "cell_type": "code",
   "execution_count": null,
   "id": "7ccc9bab",
   "metadata": {},
   "outputs": [],
   "source": [
    "a[1]   #accessing the number at index 1"
   ]
  },
  {
   "cell_type": "code",
   "execution_count": null,
   "id": "0b4b5e3b",
   "metadata": {},
   "outputs": [],
   "source": [
    "a[0]"
   ]
  },
  {
   "cell_type": "code",
   "execution_count": null,
   "id": "4b412fef",
   "metadata": {},
   "outputs": [],
   "source": [
    "#some new libraries to check why we need numpy\n",
    "import time\n",
    "import sys"
   ]
  },
  {
   "cell_type": "code",
   "execution_count": null,
   "id": "6834f405",
   "metadata": {},
   "outputs": [],
   "source": [
    "#a simple python array\n",
    "b = range(1000)\n",
    "print(sys.getsizeof(5)*len(b))"
   ]
  },
  {
   "cell_type": "code",
   "execution_count": null,
   "id": "303de642",
   "metadata": {},
   "outputs": [],
   "source": [
    "#a simple numpy array\n",
    "c = np.arange(1000)\n",
    "print(c.itemsize*c.size)"
   ]
  },
  {
   "cell_type": "code",
   "execution_count": null,
   "id": "812230ef",
   "metadata": {},
   "outputs": [],
   "source": [
    "L1 = range(100000)\n",
    "L2 = range(100000)\n",
    "N1 = np.arange(100000)\n",
    "N2 = np.arange(100000)"
   ]
  },
  {
   "cell_type": "code",
   "execution_count": null,
   "id": "637d8acd",
   "metadata": {},
   "outputs": [],
   "source": [
    "start = time.time()\n",
    "\n",
    "result = [(x*y) for x,y in zip(L1,L2)]\n",
    "print(result)\n",
    "print(\"python list took: \", (time.time()-start)*10000)"
   ]
  },
  {
   "cell_type": "code",
   "execution_count": null,
   "id": "a5711426",
   "metadata": {},
   "outputs": [],
   "source": [
    "start = time.time()\n",
    "result2 = N1*N2\n",
    "print(\"python list took: \", (time.time()-start)*10000)"
   ]
  },
  {
   "cell_type": "code",
   "execution_count": null,
   "id": "b92e2305",
   "metadata": {},
   "outputs": [],
   "source": [
    "a = np.array([[1,2],[2,3],[3,4]])\n",
    "a"
   ]
  },
  {
   "cell_type": "code",
   "execution_count": null,
   "id": "e8e16f65",
   "metadata": {},
   "outputs": [],
   "source": [
    "a.shape"
   ]
  },
  {
   "cell_type": "code",
   "execution_count": null,
   "id": "975d5f03",
   "metadata": {},
   "outputs": [],
   "source": [
    "type(a)"
   ]
  },
  {
   "cell_type": "code",
   "execution_count": null,
   "id": "b39e19d0",
   "metadata": {},
   "outputs": [],
   "source": [
    "a.itemsize"
   ]
  },
  {
   "cell_type": "code",
   "execution_count": null,
   "id": "719deb35",
   "metadata": {},
   "outputs": [],
   "source": [
    "a = np.array([[1,2],[2,3],[3,4]], dtype=np.float64)\n",
    "a"
   ]
  },
  {
   "cell_type": "code",
   "execution_count": null,
   "id": "5f562636",
   "metadata": {},
   "outputs": [],
   "source": [
    "a.itemsize"
   ]
  },
  {
   "cell_type": "code",
   "execution_count": null,
   "id": "26b1a4f8",
   "metadata": {},
   "outputs": [],
   "source": [
    "a = np.array([[1,2],[2,3],[3,4]], dtype=complex)\n",
    "a"
   ]
  },
  {
   "cell_type": "code",
   "execution_count": null,
   "id": "46421626",
   "metadata": {},
   "outputs": [],
   "source": [
    "a.itemsize"
   ]
  },
  {
   "cell_type": "code",
   "execution_count": null,
   "id": "8ecfab47",
   "metadata": {},
   "outputs": [],
   "source": [
    "np.zeros((3,4))"
   ]
  },
  {
   "cell_type": "code",
   "execution_count": null,
   "id": "5390cdfb",
   "metadata": {},
   "outputs": [],
   "source": [
    "print('concantenation example')\n",
    "print(np.char.add([['hello'],['hi']], [['abc'],['cda']]))"
   ]
  },
  {
   "cell_type": "code",
   "execution_count": null,
   "id": "1078e8be",
   "metadata": {},
   "outputs": [],
   "source": [
    "print(np.char.multiply(['hello '],3))"
   ]
  },
  {
   "cell_type": "markdown",
   "id": "f9f71bee",
   "metadata": {},
   "source": [
    "## Lesson 17: Pandas library"
   ]
  },
  {
   "cell_type": "code",
   "execution_count": null,
   "id": "8680f850",
   "metadata": {},
   "outputs": [],
   "source": [
    "import pandas as pd"
   ]
  },
  {
   "cell_type": "code",
   "execution_count": null,
   "id": "f0271a1c",
   "metadata": {},
   "outputs": [],
   "source": [
    "#checking the version of pandas\n",
    "print(pd.__version__)"
   ]
  },
  {
   "cell_type": "code",
   "execution_count": null,
   "id": "96757028",
   "metadata": {},
   "outputs": [],
   "source": [
    "#creating a series form a list\n",
    "arr = [1,2,3,4,5]\n",
    "s1 = pd.Series(arr)\n",
    "s1"
   ]
  },
  {
   "cell_type": "code",
   "execution_count": null,
   "id": "87b04ab0",
   "metadata": {},
   "outputs": [],
   "source": [
    "#adding a custom index for our series\n",
    "order = ['a','b','c','d','e']\n",
    "s2 = pd.Series(arr, index = order)\n",
    "s2"
   ]
  },
  {
   "cell_type": "code",
   "execution_count": null,
   "id": "83eee015",
   "metadata": {},
   "outputs": [],
   "source": [
    "#adding numpy with pandas\n",
    "import numpy as np\n",
    "n1 = np.random.randn(5)\n",
    "order = ['a','b','c','d','e']\n",
    "s3 = pd.Series(n1, index = order)\n",
    "s3"
   ]
  },
  {
   "cell_type": "code",
   "execution_count": null,
   "id": "9201aca0",
   "metadata": {},
   "outputs": [],
   "source": [
    "#creating a series from a dictionary\n",
    "d1 = {'a':1.2,'b':2.3,'c':3.4,'d':4.5,'e':5.6}\n",
    "s4 = pd.Series(d1)\n",
    "s4"
   ]
  },
  {
   "cell_type": "code",
   "execution_count": null,
   "id": "da5c0b2b",
   "metadata": {},
   "outputs": [],
   "source": [
    "#modifying index later\n",
    "s1.index = ['i','ii','iii','iv','v']\n",
    "s1"
   ]
  },
  {
   "cell_type": "code",
   "execution_count": null,
   "id": "7591beb2",
   "metadata": {},
   "outputs": [],
   "source": [
    "#slicing\n",
    "s4[1:4]"
   ]
  },
  {
   "cell_type": "code",
   "execution_count": null,
   "id": "9247b2fb",
   "metadata": {},
   "outputs": [],
   "source": [
    "#append\n",
    "s3.append(s4)"
   ]
  },
  {
   "cell_type": "code",
   "execution_count": null,
   "id": "ab8e3a78",
   "metadata": {},
   "outputs": [],
   "source": [
    "s3.drop('a')"
   ]
  },
  {
   "cell_type": "code",
   "execution_count": null,
   "id": "2d0ca7ca",
   "metadata": {},
   "outputs": [],
   "source": [
    "#series operation\n",
    "for i in range(7):\n",
    "    s5 = pd.Series(i)\n",
    "for j in range(5):\n",
    "    s6 = pd.Series(j)\n",
    "    \n",
    "print(s5)\n",
    "print(s6)"
   ]
  },
  {
   "cell_type": "code",
   "execution_count": null,
   "id": "6b29e106",
   "metadata": {},
   "outputs": [],
   "source": [
    "s5.add(s6)"
   ]
  },
  {
   "cell_type": "code",
   "execution_count": null,
   "id": "addffaf2",
   "metadata": {},
   "outputs": [],
   "source": [
    "s6.sub(s5)"
   ]
  },
  {
   "cell_type": "code",
   "execution_count": null,
   "id": "b1c3db54",
   "metadata": {},
   "outputs": [],
   "source": [
    "s5.mul(s6)"
   ]
  },
  {
   "cell_type": "code",
   "execution_count": null,
   "id": "3eb42798",
   "metadata": {},
   "outputs": [],
   "source": [
    "s5.div(s6)"
   ]
  },
  {
   "cell_type": "code",
   "execution_count": null,
   "id": "7db74024",
   "metadata": {},
   "outputs": [],
   "source": [
    "n1 = np.random.randn(5)\n",
    "while i in n1:\n",
    "    s7 = pd.Series(i)\n",
    "    \n",
    "print(s7)"
   ]
  },
  {
   "cell_type": "code",
   "execution_count": null,
   "id": "48d568f5",
   "metadata": {},
   "outputs": [],
   "source": [
    "print('median', s7.median())\n",
    "print('max', s7.max())\n",
    "print('min', s7.min())"
   ]
  },
  {
   "cell_type": "code",
   "execution_count": null,
   "id": "f856c14b",
   "metadata": {},
   "outputs": [],
   "source": [
    "#creating a dataframe\n",
    "dates = pd.date_range('today', periods=6)\n",
    "num_arr = np.random.randn(6,4)\n",
    "column = ['a','b','c','d']\n",
    "\n",
    "df1 = pd.DataFrame(num_arr, index=dates, columns=column)\n",
    "print(df1)"
   ]
  },
  {
   "cell_type": "code",
   "execution_count": null,
   "id": "ca036d9c",
   "metadata": {},
   "outputs": [],
   "source": [
    "iris = pd.read_csv(r\"C:\\Users\\spars\\Desktop\\iris.csv\")\n",
    "iris.head()"
   ]
  },
  {
   "cell_type": "code",
   "execution_count": null,
   "id": "2fcbb2d0",
   "metadata": {},
   "outputs": [],
   "source": [
    "iris.dtypes"
   ]
  },
  {
   "cell_type": "code",
   "execution_count": null,
   "id": "b3874546",
   "metadata": {},
   "outputs": [],
   "source": [
    "df1.dtypes"
   ]
  },
  {
   "cell_type": "code",
   "execution_count": null,
   "id": "ca3782b5",
   "metadata": {},
   "outputs": [],
   "source": [
    "iris_25 = iris.head(25)"
   ]
  },
  {
   "cell_type": "code",
   "execution_count": null,
   "id": "0b981ed5",
   "metadata": {},
   "outputs": [],
   "source": [
    "print(iris_25.index)"
   ]
  },
  {
   "cell_type": "code",
   "execution_count": null,
   "id": "8f6c6eb3",
   "metadata": {},
   "outputs": [],
   "source": [
    "print(iris_25.columns)"
   ]
  },
  {
   "cell_type": "code",
   "execution_count": null,
   "id": "23773cf1",
   "metadata": {},
   "outputs": [],
   "source": [
    "iris_25.values"
   ]
  },
  {
   "cell_type": "code",
   "execution_count": null,
   "id": "129a30c8",
   "metadata": {},
   "outputs": [],
   "source": [
    "iris_25.describe"
   ]
  },
  {
   "cell_type": "code",
   "execution_count": null,
   "id": "9ac25616",
   "metadata": {},
   "outputs": [],
   "source": [
    "iris_25.T"
   ]
  },
  {
   "cell_type": "code",
   "execution_count": null,
   "id": "026e8604",
   "metadata": {},
   "outputs": [],
   "source": [
    "iris_25.sort_values(by = \"sepal_length\")"
   ]
  },
  {
   "cell_type": "code",
   "execution_count": null,
   "id": "83100d5b",
   "metadata": {},
   "outputs": [],
   "source": [
    "iris_25.sort_values(by = \"sepal_length\")[5:15]"
   ]
  },
  {
   "cell_type": "code",
   "execution_count": null,
   "id": "489f998d",
   "metadata": {},
   "outputs": [],
   "source": [
    "iris_25.iloc"
   ]
  },
  {
   "cell_type": "code",
   "execution_count": null,
   "id": "9e4c7fd6",
   "metadata": {},
   "outputs": [],
   "source": [
    "iris.loc[2, 'sepal_width']=2.8\n",
    "iris"
   ]
  },
  {
   "cell_type": "code",
   "execution_count": null,
   "id": "71f63264",
   "metadata": {},
   "outputs": [],
   "source": [
    "iris_25[['sepal_width']].mean()"
   ]
  },
  {
   "cell_type": "code",
   "execution_count": null,
   "id": "a6cedcbf",
   "metadata": {},
   "outputs": [],
   "source": [
    "#saving a dataframe as csv file\n",
    "df1.to_csv(\"practice.csv\")"
   ]
  },
  {
   "cell_type": "code",
   "execution_count": null,
   "id": "f8df1157",
   "metadata": {},
   "outputs": [],
   "source": [
    "df2 = pd.read_csv(\"practice.csv\")\n",
    "df2"
   ]
  },
  {
   "cell_type": "markdown",
   "id": "028f2bbb",
   "metadata": {},
   "source": [
    "## Lesson 18: MatploLib library"
   ]
  },
  {
   "cell_type": "code",
   "execution_count": null,
   "id": "d5cf0b85",
   "metadata": {},
   "outputs": [],
   "source": [
    "#importing pylabs module from matpoltlib\n",
    "from matplotlib import pylab as pyl  "
   ]
  },
  {
   "cell_type": "code",
   "execution_count": null,
   "id": "4f337bb1",
   "metadata": {},
   "outputs": [],
   "source": [
    "print(pyl.__version__)"
   ]
  },
  {
   "cell_type": "code",
   "execution_count": null,
   "id": "f788906d",
   "metadata": {},
   "outputs": [],
   "source": [
    "import numpy as np\n",
    "\n",
    "x = np.linspace(0, 10, 25)\n",
    "y = x*x+2\n",
    "print(x)\n",
    "print(y)"
   ]
  },
  {
   "cell_type": "code",
   "execution_count": null,
   "id": "39b655fa",
   "metadata": {},
   "outputs": [],
   "source": [
    "pyl.plot(x,y)\n",
    "pyl.show()"
   ]
  },
  {
   "cell_type": "code",
   "execution_count": null,
   "id": "4f8f2b20",
   "metadata": {},
   "outputs": [],
   "source": [
    "#drawing the subgraph\n",
    "pyl.subplot(1,2,1) #the contents 0f the bracket represents (rows, columns, indices) respectively\n",
    "pyl.plot(x,y, 'r--')\n",
    "pyl.subplot(1,2,2)\n",
    "pyl.plot(y,x, 'g*-')"
   ]
  },
  {
   "cell_type": "code",
   "execution_count": null,
   "id": "eb67a740",
   "metadata": {},
   "outputs": [],
   "source": [
    "pyl.subplot(1,2,1)\n",
    "pyl.plot(x,y, 'r--')\n",
    "pyl.subplot(1,2,1)\n",
    "pyl.plot(y,x, 'g*-')"
   ]
  },
  {
   "cell_type": "code",
   "execution_count": null,
   "id": "a5aee6ec",
   "metadata": {},
   "outputs": [],
   "source": [
    "#pyplot is another module under matplotlib\n",
    "import matplotlib.pyplot as plt"
   ]
  },
  {
   "cell_type": "code",
   "execution_count": null,
   "id": "580a205c",
   "metadata": {},
   "outputs": [],
   "source": [
    "#we can draw a picture or a graph under a graph\n",
    "fig = plt.figure(figsize=(16,9), dpi=1000)\n",
    "\n",
    "#control the left, right, width and height of the canvas from (0 to 1)\n",
    "axes1 = fig.add_axes([0.1,0.1,0.8,0.8]) #big axes\n",
    "axes2 = fig.add_axes([0.2,0.5,0.3,0.3]) #small canvas\n",
    "\n",
    "axes1.plot(x,y,'r')\n",
    "axes2.plot(y,x,'y')"
   ]
  },
  {
   "cell_type": "markdown",
   "id": "9a796915",
   "metadata": {},
   "source": [
    "**you can also add title to the graph**\n",
    "\n",
    "```python\n",
    "plt.title('title of the graph')\n",
    "```\n",
    "\n",
    "**you can also add title for perticular axes**\n",
    "\n",
    "```python\n",
    "plt.xlabel('x-label')\n",
    "plt.ylabel('y-label')\n",
    "```"
   ]
  },
  {
   "cell_type": "code",
   "execution_count": null,
   "id": "610d531e",
   "metadata": {},
   "outputs": [],
   "source": [
    "#in matplotlib we can also add other properties such as transperancy, colour, and more\n",
    "\n",
    "#dpi stands for dots per inch and is used for quality check\n",
    "fig, axes = plt.subplots(dpi=100)\n",
    "\n",
    "#to add title to graph\n",
    "plt.title(\"title of the graph\")\n",
    "\n",
    "#to add xlabel\n",
    "plt.xlabel(\"x-label\")\n",
    "\n",
    "#to add xlabel\n",
    "plt.ylabel(\"y-label\")\n",
    "\n",
    "\n",
    "\"\"\"r'=>colour of line\n",
    "alpha=>transperancy\n",
    "lw or inewidth=>width of the line\n",
    "ls or linestyle=>style of line\n",
    "marker=>to mark points on line\n",
    "markersize=>size of marker\n",
    "markerfacecolor=>to change color of marker\"\"\"\n",
    "axes.plot(x,x*2, 'r', alpha=.5, linewidth=0.5, linestyle='--', marker='o', markersize=5, markerfacecolor='b')\n",
    "axes.plot(x,x+2, 'b', alpha=.5, linewidth=1.5, linestyle='-.', marker='s', markersize=3, markerfacecolor='r')"
   ]
  },
  {
   "cell_type": "code",
   "execution_count": null,
   "id": "5f4436f5",
   "metadata": {},
   "outputs": [],
   "source": [
    "\"\"\"set a grid for a graph\"\"\"\n",
    "\n",
    "fig, axes = plt.subplots(1,2, figsize=(10,5))\n",
    "\n",
    "axes[0].plot(x,x**2, x,x**3)\n",
    "axes[0].grid(True)\n",
    "\n",
    "axes[1].plot(x,x**2, x,x**3)\n",
    "axes[1].set_ylim([0,60])\n",
    "axes[1].set_xlim([2,5])\n",
    "axes[1].grid(True)"
   ]
  },
  {
   "cell_type": "code",
   "execution_count": null,
   "id": "5d18bfb8",
   "metadata": {},
   "outputs": [],
   "source": [
    "#testing various other charts in matplotlib\n",
    "\n",
    "n = np.array([1,2,3,4,5])\n",
    "\n",
    "fig, axes = plt.subplots(1,4, figsize=(16,5))\n",
    "\n",
    "#scatterplot\n",
    "axes[0].set_title(\"Scatter\")\n",
    "axes[0].scatter(x, x+0.25*np.random.randn(len(x)))\n",
    "\n",
    "#step bar\n",
    "axes[1].set_title(\"Step bar\")\n",
    "axes[1].step(n, n**2, lw=2)\n",
    "\n",
    "#bar graph\n",
    "axes[2].set_title(\"Bar graph\")\n",
    "axes[2].bar(n, n**2, align='center', width=0.5)\n",
    "\n",
    "#fill_between\n",
    "axes[3].set_title(\"fill between\")\n",
    "axes[3].fill_between(x, x**2, 'g')`"
   ]
  },
  {
   "cell_type": "markdown",
   "id": "a4c0e0e5",
   "metadata": {},
   "source": [
    "## LESSON 19: SciKit Learn Library"
   ]
  },
  {
   "cell_type": "markdown",
   "id": "3a0f3788",
   "metadata": {},
   "source": [
    "**whta we can achieve from scikit learn library**\n",
    "\n",
    "1) Classification: to check group of a perticular item\n",
    "\n",
    "2) Regression: to check the group of attribute for a perticular item\n",
    "\n",
    "3) Clutering: automatic grouping of similar objects into groups\n",
    "\n",
    "4) Model Selection: comparing, validationg and choosing parameters and models\n",
    "\n",
    "5) Dimensionality Reduction: reducing the number of random varioabes to consider\n",
    "\n",
    "6) Pre-processing: feature extraction and normalization"
   ]
  },
  {
   "cell_type": "code",
   "execution_count": null,
   "id": "123a9a71",
   "metadata": {},
   "outputs": [],
   "source": [
    "#importing rrequired packages\n",
    "\n",
    "#data visulization and loading packages\n",
    "import pandas as pd\n",
    "import matplotlib.pyplot as plt\n",
    "import seaborn as sns\n",
    "\n",
    "#scikit learn packages\n",
    "from sklearn.ensemble import RandomForestClassifier                   #for random forest classifier\n",
    "from sklearn import svm                                               #for support vector machine\n",
    "from sklearn.svm import SVC                                           #for support vector classifier\n",
    "from sklearn.neural_network import MLPClassifier                      #for neural network model, here MLP=>multi-layer perceptron\n",
    "from sklearn.metrics import confusion_matrix, classification_report   #to check accuracy of the model\n",
    "from sklearn.preprocessing import StandardScaler, LabelEncoder        #to scale model and to encode labels to original dataset\n",
    "from sklearn.model_selection import train_test_split                  #to split data into training and testing data\n",
    "%matplotlib inline"
   ]
  },
  {
   "cell_type": "code",
   "execution_count": null,
   "id": "dbbd8674",
   "metadata": {},
   "outputs": [],
   "source": [
    "#loading the required dataset\n",
    "wine = pd.read_csv(r\"C:\\Users\\spars\\Desktop\\winequality-red.csv\")\n",
    "wine.head()"
   ]
  },
  {
   "cell_type": "code",
   "execution_count": null,
   "id": "bb60b8ee",
   "metadata": {},
   "outputs": [],
   "source": [
    "#checking the information regarding the dataset\n",
    "wine.info()"
   ]
  },
  {
   "cell_type": "code",
   "execution_count": null,
   "id": "913fa492",
   "metadata": {},
   "outputs": [],
   "source": [
    "#checking (if) null values exists in the dataset\n",
    "wine.isnull().sum()"
   ]
  },
  {
   "cell_type": "code",
   "execution_count": null,
   "id": "cde5e6e4",
   "metadata": {},
   "outputs": [],
   "source": [
    "#pre-processing the data\n",
    "bins = (2, 6.5, 8)         #bins find a periticular value\n",
    "group_names = ['bad', 'good']\n",
    "wine['quality'] = pd.cut(wine['quality'], bins = bins, labels = group_names)\n",
    "wine['quality'].unique()"
   ]
  },
  {
   "cell_type": "code",
   "execution_count": null,
   "id": "2a5038b5",
   "metadata": {},
   "outputs": [],
   "source": [
    "#encoding our quality parameters into the dataset\n",
    "label_quality = LabelEncoder()\n",
    "wine['quality'] = label_quality.fit_transform(wine['quality'])\n",
    "wine.head(10)"
   ]
  },
  {
   "cell_type": "code",
   "execution_count": null,
   "id": "0d8566aa",
   "metadata": {},
   "outputs": [],
   "source": [
    "#checking the number of good quality and bad quality wines\n",
    "wine['quality'].value_counts()"
   ]
  },
  {
   "cell_type": "code",
   "execution_count": null,
   "id": "aee241aa",
   "metadata": {},
   "outputs": [],
   "source": [
    "#plotting this on the graph\n",
    "sns.countplot(wine['quality'])"
   ]
  },
  {
   "cell_type": "code",
   "execution_count": null,
   "id": "8070be63",
   "metadata": {},
   "outputs": [],
   "source": [
    "#now saperate the datset as response variable and feature variables\n",
    "x = wine.drop('quality', axis=1)\n",
    "y = wine['quality']"
   ]
  },
  {
   "cell_type": "code",
   "execution_count": null,
   "id": "3cfa6d08",
   "metadata": {},
   "outputs": [],
   "source": [
    "#train and test splitting data\n",
    "x_train, x_test, y_train, y_test = train_test_split(x,y, test_size=0.2, random_state=42)"
   ]
  },
  {
   "cell_type": "code",
   "execution_count": null,
   "id": "e5c78f93",
   "metadata": {},
   "outputs": [],
   "source": [
    "#applying standard scaling to get optimized results\n",
    "sc = StandardScaler()\n",
    "x_train = sc.fit_transform(x_train)\n",
    "x_test = sc.transform(x_test)"
   ]
  },
  {
   "cell_type": "code",
   "execution_count": null,
   "id": "55241a16",
   "metadata": {},
   "outputs": [],
   "source": [
    "x_train[:10]"
   ]
  },
  {
   "cell_type": "markdown",
   "id": "b8259052",
   "metadata": {},
   "source": [
    "### Random Forest Classifier"
   ]
  },
  {
   "cell_type": "code",
   "execution_count": null,
   "id": "758711f1",
   "metadata": {},
   "outputs": [],
   "source": [
    "rfc = RandomForestClassifier(n_estimators = 200)\n",
    "rfc"
   ]
  },
  {
   "cell_type": "code",
   "execution_count": null,
   "id": "b8b6fe7e",
   "metadata": {},
   "outputs": [],
   "source": [
    "#fitting the data\n",
    "rfc.fit(x_train, y_train)\n",
    "pred_rfc = rfc.predict(x_test)\n",
    "pred_rfc[:20]"
   ]
  },
  {
   "cell_type": "code",
   "execution_count": null,
   "id": "b6ba2461",
   "metadata": {},
   "outputs": [],
   "source": [
    "#checking the accuracy of the model\n",
    "print(classification_report(y_test, pred_rfc))"
   ]
  },
  {
   "cell_type": "code",
   "execution_count": null,
   "id": "9f6c29ff",
   "metadata": {},
   "outputs": [],
   "source": [
    "#creating a confusion matrix for this model\n",
    "print(confusion_matrix(y_test, pred_rfc))"
   ]
  },
  {
   "cell_type": "markdown",
   "id": "b2036ca2",
   "metadata": {},
   "source": [
    "### Support Vector Machine Classifier"
   ]
  },
  {
   "cell_type": "code",
   "execution_count": null,
   "id": "c0d25b90",
   "metadata": {},
   "outputs": [],
   "source": [
    "clf = svm.SVC()\n",
    "clf.fit(x_train, y_train)\n",
    "pred_clf = clf.predict(x_test)\n",
    "pred_clf[:20]"
   ]
  },
  {
   "cell_type": "code",
   "execution_count": null,
   "id": "52775eb4",
   "metadata": {},
   "outputs": [],
   "source": [
    "#checking the accuracy of the model\n",
    "print(classification_report(y_test, pred_clf))\n",
    "\n",
    "#creating a confusion matrix for this model\n",
    "print(confusion_matrix(y_test, pred_clf))"
   ]
  },
  {
   "cell_type": "markdown",
   "id": "83a3aa5b",
   "metadata": {},
   "source": [
    "### Neural Network"
   ]
  },
  {
   "cell_type": "code",
   "execution_count": null,
   "id": "676fe507",
   "metadata": {},
   "outputs": [],
   "source": [
    "mlpc = MLPClassifier(hidden_layer_sizes=(11,11,11), max_iter=500)\n",
    "mlpc.fit(x_train, y_train)\n",
    "pred_mlpc = mlpc.predict(x_test)\n",
    "pred_mlpc[:20]"
   ]
  },
  {
   "cell_type": "code",
   "execution_count": null,
   "id": "428bd52e",
   "metadata": {},
   "outputs": [],
   "source": [
    "#checking the accuracy of the model\n",
    "print(classification_report(y_test, pred_mlpc))\n",
    "\n",
    "#creating a confusion matrix for this model\n",
    "print(confusion_matrix(y_test, pred_mlpc))"
   ]
  },
  {
   "cell_type": "code",
   "execution_count": null,
   "id": "8f5adcad",
   "metadata": {},
   "outputs": [],
   "source": [
    "#importing a package to check accuracy score\n",
    "from sklearn.metrics import accuracy_score\n",
    "accuracy_score(y_test, pred_rfc)"
   ]
  },
  {
   "cell_type": "markdown",
   "id": "8e2af575",
   "metadata": {},
   "source": [
    "## Lesson 20: Web Scraping Using Python"
   ]
  },
  {
   "cell_type": "markdown",
   "id": "e53ef119",
   "metadata": {},
   "source": [
    "Web scraping is a process of pulling information from HTML and XML files i.e. over the web\n",
    "\n",
    "**=>Web Scraping is done using BeautifulSoups**\n",
    "BeautifulSoups is a Python library that is used for web scraping purposes to pull the data out of HTML and XML files. It creates a parse tree from page source code that can be used to extract data in a hierarchical and more readable manner.\n",
    "\n",
    "**Steps to the module**\n",
    "\n",
    "1) Open Anaconda Nevigator\n",
    "\n",
    "2) go to environments and open a new terminal\n",
    "\n",
    "3) type in the following command \n",
    "```python\n",
    "conda install beautifulsoup4\n",
    "```\n",
    "you can also use pip instead of conda**\n",
    "\n",
    "4) also install numpy, pandas and matplotlib (if not already installed) using\n",
    "```python\n",
    "conda install numpy\n",
    "conda install pandas\n",
    "conda install matplotlib\n",
    "```\n",
    "\n",
    "5) close the terminal once all the libraries are installed\n",
    "\n",
    "6) go to home and launch **JupyterLabs**"
   ]
  },
  {
   "cell_type": "code",
   "execution_count": null,
   "id": "cdf831f2",
   "metadata": {},
   "outputs": [],
   "source": [
    "#importing required packages\n",
    "import numpy as np\n",
    "import pandas as pd\n",
    "import matplotlib.pyplot as plt\n",
    "\n",
    "%matplotlib inline\n",
    "\n",
    "from urllib.request import urlopen    #to import required url\n",
    "from bs4 import BeautifulSoup         #to setup beautiful soup\n",
    "import re                   "
   ]
  },
  {
   "cell_type": "code",
   "execution_count": null,
   "id": "b428fa32-72af-444c-b9d4-eff1b71fc99e",
   "metadata": {},
   "outputs": [],
   "source": [
    "url = \"https://www.hubertiming.com/results/2018MLK\"      #accessing the url\n",
    "html = urlopen(url)                                      #passing the url to an object caled html"
   ]
  },
  {
   "cell_type": "code",
   "execution_count": null,
   "id": "18798a19-8911-48ba-be5d-a7c13feaf266",
   "metadata": {},
   "outputs": [],
   "source": [
    "soup = BeautifulSoup(html)        #setting up beautiful soup"
   ]
  },
  {
   "cell_type": "code",
   "execution_count": null,
   "id": "840fa6e2-1915-455c-8dea-60149408cf6d",
   "metadata": {},
   "outputs": [],
   "source": [
    "#extracting data\n",
    "title = soup.title\n",
    "print(title.text)      #printing the title of the web page without html tags\n",
    "print(title)           #printing the title of the web page"
   ]
  },
  {
   "cell_type": "code",
   "execution_count": null,
   "id": "a48fff67-20b2-4bd0-b6e5-b88e24380afd",
   "metadata": {},
   "outputs": [],
   "source": [
    "#finding all links\n",
    "links = soup.find_all('a', href=True)\n",
    "for link in links:\n",
    "    print(link['href'])"
   ]
  },
  {
   "cell_type": "code",
   "execution_count": null,
   "id": "d8266f6f-eb86-4e09-810e-e93db418310b",
   "metadata": {},
   "outputs": [],
   "source": [
    "#checking the data in all rows\n",
    "allrows = soup.find_all('tr')\n",
    "print(allrows[:10])"
   ]
  },
  {
   "cell_type": "code",
   "execution_count": null,
   "id": "6442d8ca-70b2-41dd-acf7-4494d7ef86e4",
   "metadata": {},
   "outputs": [],
   "source": [
    "data = []\n",
    "all_rows = soup.find_all(\"tr\")\n",
    "for row in all_rows:\n",
    "    row_list = row.find_all(\"td\")\n",
    "    datarow = []\n",
    "    for cell in row_list:\n",
    "        datarow.append(cell.text)\n",
    "    data.append(datarow)\n",
    "data = data[4:]\n",
    "print(data[-2:])"
   ]
  },
  {
   "cell_type": "code",
   "execution_count": null,
   "id": "32afe14c-932e-49fb-beda-971aca543591",
   "metadata": {},
   "outputs": [],
   "source": [
    "df = pd.DataFrame(data)\n",
    "print(df.head(2))\n",
    "print(df.tail(2))"
   ]
  },
  {
   "cell_type": "code",
   "execution_count": null,
   "id": "b4930baa-57b8-4387-8338-f0d51cbb59a0",
   "metadata": {},
   "outputs": [],
   "source": [
    "header = []\n",
    "col_headers = soup.find_all(\"th\")\n",
    "for col in col_headers:\n",
    "    header.append(col.text)\n",
    "print(header)"
   ]
  },
  {
   "cell_type": "code",
   "execution_count": null,
   "id": "c8be76e2-cdc0-4e20-8206-41cf87629993",
   "metadata": {},
   "outputs": [],
   "source": [
    "df.columns = header\n",
    "print(df.head())"
   ]
  },
  {
   "cell_type": "code",
   "execution_count": null,
   "id": "212d1654-dee8-4576-8abf-cce08158ffa1",
   "metadata": {},
   "outputs": [],
   "source": [
    "df.info()"
   ]
  },
  {
   "cell_type": "code",
   "execution_count": null,
   "id": "9b2e7fd5-33c9-43f0-8bdf-6cb230d3874a",
   "metadata": {},
   "outputs": [],
   "source": [
    "df.shape"
   ]
  },
  {
   "cell_type": "code",
   "execution_count": null,
   "id": "653208f8-e3c2-440b-8230-94db6133dd04",
   "metadata": {},
   "outputs": [],
   "source": [
    "df.isnull()"
   ]
  },
  {
   "cell_type": "markdown",
   "id": "7da6504f-3b66-42bb-94c8-6a9cf8b8aefc",
   "metadata": {},
   "source": [
    "## Support Material"
   ]
  },
  {
   "cell_type": "markdown",
   "id": "3423ad4e",
   "metadata": {},
   "source": [
    "## 1) How to be a Python Developer\n",
    "\n",
    "**1) Build your own GitHub repository and add your Python Projects and Work**\n",
    "\n",
    "**2) Write the code in Readable format i.e. use PEP8 style guidlines. Link to PRP8's website: https://peps.python.org/pep-0008/**\n",
    "\n",
    "**3) Create a good Documentation i.e. impressive README file**\n",
    "\n",
    "**4) Read other people's code to learn more. eg: Kenneth Reitz(https://github.com/kennethreitz) and Raymond Hettinger(https://github.com/rhettinger)**\n",
    "\n",
    "**5) Read books on Python coding**\n",
    "\n",
    "**6) Grow your Python skillset by doing more and more projects that require different libraries**\n",
    "\n",
    "**7) Make open source contributions for the community to show your support for other developers, this increases your esteem and value in the community and allows you to learn from others**\n",
    "\n",
    "**8) Try creating a BLOG. Tell people what you have learnt and how you are planning to utillize it**\n",
    "\n",
    "**9) Make a Schedule for yourself and practice daily**\n",
    "\n",
    "**10) Keep your profile and resume updated all the time**"
   ]
  },
  {
   "cell_type": "markdown",
   "id": "1411184f",
   "metadata": {},
   "source": [
    "## Python Interview Questions\n",
    "\n",
    "**ques 1** what is the diffrence between shallowcopy and deepcopy?\n",
    "\n",
    "**ques 2** how is multi-threading achieved in Python?\n",
    "\n",
    "**ques 3** discuss the Django architecture?\n",
    "\n",
    "**ques 4** what advantage does numpy array have over nested list?\n",
    "\n",
    "**ques 5** what is pickling and unpickling?\n",
    "\n",
    "**ques 6** how is memory is managed in python?\n",
    "\n",
    "**ques 7** are arguments in python are passed by value or by reference?\n",
    "\n",
    "**ques 8** how would you generate a random number in python?\n",
    "\n",
    "**ques 9** what does // operator do?\n",
    "\n",
    "**ques 10** what does the is operator do?\n",
    "\n",
    "**ques 11** what is the purpose of pass statement?\n",
    "\n",
    "**ques 12** how will you check if all the character in a string are alphanumeric?\n",
    "\n",
    "**ques 13** how will you merge elements in a sequence?\n",
    "\n",
    "**ques 14** how will you remove all leading whitesapaces in a string?\n",
    "\n",
    "**ques 15** how will you replace all occurences of a substring with a new string?\n",
    "\n",
    "**ques 16** what is the difference between del() and remove() in a list?\n",
    "\n",
    "**ques 17** how to diplay contents of a text file in reverse order?\n",
    "\n",
    "**ques 18** differentiate between append() and extend()?\n",
    "\n",
    "**ques 19** what is the difference between a list and a tuple?\n",
    "\n",
    "**ques 20** what is docstring in Python?"
   ]
  },
  {
   "cell_type": "markdown",
   "id": "21a76b3d",
   "metadata": {},
   "source": [
    "# THANK YOU FOR READING"
   ]
  }
 ],
 "metadata": {
  "kernelspec": {
   "display_name": "Python 3 (ipykernel)",
   "language": "python",
   "name": "python3"
  },
  "language_info": {
   "codemirror_mode": {
    "name": "ipython",
    "version": 3
   },
   "file_extension": ".py",
   "mimetype": "text/x-python",
   "name": "python",
   "nbconvert_exporter": "python",
   "pygments_lexer": "ipython3",
   "version": "3.9.7"
  }
 },
 "nbformat": 4,
 "nbformat_minor": 5
}
